{
 "cells": [
  {
   "cell_type": "markdown",
   "metadata": {},
   "source": [
    "# Topic Modelling on Wiki & Metaphor Corpus\n",
    "*Anastasia Nikiforova. HSE, Computational Linguistics*\n",
    "\n",
    "*Thesis: Metaphor Identification using Topic Modeling*\n",
    "\n",
    "## Contents\n",
    "\n",
    "1. Downloading, parsing and preprocessing Wikipedia with Corpuscula and Pymorphy2.\n",
    "2. Saving wiki articles in Vowpal Wabbit format.\n",
    "3. Loading & Preprocessing Metaphor Corpus.\n",
    "4. Running BigARTM on Wikipedia.\n",
    "5. Bulk training & scoring several topic models.\n",
    "7. Fitting best topic models on the Metaphor Corpus.\n",
    "\n",
    "Further notebooks:\n",
    "\n",
    "8. Running Classification on Metaphor Corpus.\n",
    "9. Model Scoring.\n",
    "10. Theta matrix analysis"
   ]
  },
  {
   "cell_type": "markdown",
   "metadata": {},
   "source": [
    "All Necessary Imports:"
   ]
  },
  {
   "cell_type": "code",
   "execution_count": null,
   "metadata": {},
   "outputs": [],
   "source": [
    "from nltk.corpus import stopwords\n",
    "from string import punctuation\n",
    "from tqdm import tqdm\n",
    "import pandas as pd\n",
    "import numpy as np\n",
    "import re\n",
    "import matplotlib.pyplot as plt\n",
    "\n",
    "from nltk.tokenize import word_tokenize\n",
    "from string import punctuation\n",
    "from itertools import chain\n",
    "from collections import Counter\n",
    "\n",
    "import nltk\n",
    "nltk.download(\"stopwords\")\n",
    "\n",
    "#Create lemmatizer and stopwords list \n",
    "russian_stopwords = stopwords.words(\"russian\")\n",
    "russian_stopwords += ['ваш', 'наш', 'твой', 'который', 'это', 'то', 'что', 'кто', 'какой']\n",
    "\n",
    "import pymorphy2\n",
    "morph = pymorphy2.MorphAnalyzer()\n",
    "\n",
    "import artm"
   ]
  },
  {
   "cell_type": "markdown",
   "metadata": {},
   "source": [
    "___________________"
   ]
  },
  {
   "cell_type": "markdown",
   "metadata": {},
   "source": [
    "## Wikipedia Parsing and Preprocessing"
   ]
  },
  {
   "cell_type": "code",
   "execution_count": 39,
   "metadata": {},
   "outputs": [
    {
     "name": "stdout",
     "output_type": "stream",
     "text": [
      "--2020-05-20 11:23:58--  https://dumps.wikimedia.org/ruwiki/20200501/ruwiki-20200501-pages-meta-current4.xml-p1938396p3398621.bz2\n",
      "Resolving dumps.wikimedia.org (dumps.wikimedia.org)... 208.80.154.7, 2620:0:861:1:208:80:154:7\n",
      "Connecting to dumps.wikimedia.org (dumps.wikimedia.org)|208.80.154.7|:443... connected.\n",
      "HTTP request sent, awaiting response... 200 OK\n",
      "Length: 835477628 (797M) [application/octet-stream]\n",
      "Saving to: ‘ruwiki-20200501-pages-meta-current4.xml-p1938396p3398621.bz2’\n",
      "\n",
      "ruwiki-20200501-pag 100%[===================>] 796.77M  1.51MB/s    in 4m 32s  \n",
      "\n",
      "2020-05-20 11:28:31 (2.93 MB/s) - ‘ruwiki-20200501-pages-meta-current4.xml-p1938396p3398621.bz2’ saved [835477628/835477628]\n",
      "\n"
     ]
    }
   ],
   "source": [
    "#!wget https://dumps.wikimedia.org/ruwiki/20200501/ruwiki-20200501-pages-meta-current4.xml-p1938396p3398621.bz2"
   ]
  },
  {
   "cell_type": "code",
   "execution_count": 331,
   "metadata": {},
   "outputs": [
    {
     "name": "stdout",
     "output_type": "stream",
     "text": [
      "--2020-05-23 19:24:28--  https://dumps.wikimedia.org/ruwiki/20200501/ruwiki-20200501-pages-articles5.xml-p3398622p4898621.bz2\n",
      "Resolving dumps.wikimedia.org (dumps.wikimedia.org)... 208.80.154.7, 2620:0:861:1:208:80:154:7\n",
      "Connecting to dumps.wikimedia.org (dumps.wikimedia.org)|208.80.154.7|:443... connected.\n",
      "HTTP request sent, awaiting response... 200 OK\n",
      "Length: 721724963 (688M) [application/octet-stream]\n",
      "Saving to: ‘ruwiki-20200501-pages-articles5.xml-p3398622p4898621.bz2’\n",
      "\n",
      "ruwiki-20200501-pag 100%[===================>] 688.29M  3.72MB/s    in 2m 24s  \n",
      "\n",
      "2020-05-23 19:26:53 (4.79 MB/s) - ‘ruwiki-20200501-pages-articles5.xml-p3398622p4898621.bz2’ saved [721724963/721724963]\n",
      "\n"
     ]
    }
   ],
   "source": [
    "!wget https://dumps.wikimedia.org/ruwiki/20200501/ruwiki-20200501-pages-articles5.xml-p3398622p4898621.bz2"
   ]
  },
  {
   "cell_type": "code",
   "execution_count": 332,
   "metadata": {},
   "outputs": [],
   "source": [
    "from corpuscula.conllu import Conllu\n",
    "from corpuscula import corpus_utils\n",
    "from corpuscula.wikipedia_utils import Wikipedia\n",
    "from toxine.wikipedia_utils import TokenizedWikipedia\n",
    "import re"
   ]
  },
  {
   "cell_type": "code",
   "execution_count": 333,
   "metadata": {},
   "outputs": [],
   "source": [
    "from nltk.tokenize import word_tokenize\n",
    "from string import punctuation\n",
    "from itertools import chain"
   ]
  },
  {
   "cell_type": "code",
   "execution_count": 12,
   "metadata": {},
   "outputs": [],
   "source": [
    "def replace_tokens(seq):\n",
    "    '''A function to replace or remove certain tokens from the corpus.\n",
    "    \n",
    "    <NUM_UINT>          Integers greater than 3001 (so that all year references are left as is).\n",
    "    <NUM_SINT>          Numbers with `+` or `-` in front of them, e.g. negative numbers, temperature etc.\n",
    "    <NUM_FLOAT>         Decimals with floating comma/dot\n",
    "    <NUM_UINT>-{token}  Tokens with numbers like \"20-летний\".\n",
    "    \n",
    "    All the garbage strings like \"yhfvkлнмилрои6237\" that have both Cyrillic and Latin alphabet \n",
    "    and/or numbers, symbols are removed.\n",
    "    \n",
    "    Exception: strings like \"HTML-страница\", where first part of the token is Latin letters, \n",
    "    then dash, and the second part is Cyrillic letters.\n",
    "    '''\n",
    "    \n",
    "    tokens = word_tokenize(seq.lower().replace('\\xa0', ' ').replace('\\n', ' '))\n",
    "    \n",
    "    processed_seq = []\n",
    "    for token in tokens:\n",
    "        if token in punctuation+'«»':\n",
    "            continue\n",
    "        elif token.isdecimal():\n",
    "            # replace all numbers longer than 3001 with <NUM>\n",
    "            if int(token) > 3001:\n",
    "                token = '<NUM_UINT>'\n",
    "\n",
    "        elif re.match(r'[+-]\\d+', token):\n",
    "            # if the number has a decimal part or (+-) in front, leave as-is (+36,6)\n",
    "            token = '<NUM_SINT>'\n",
    "\n",
    "        elif re.match(r'[+-]?\\d+[.,]\\d*$', token):\n",
    "            # Decimals with floating comma/dot\n",
    "            token = '<NUM_FLOAT>'\n",
    "\n",
    "        elif re.match(r'[`’\\'²³°$€%&~№()/\"\\«»„“+.,:;!?-]+$', token) \\\n",
    "          or re.match(r'[a-zA-Z]+-[а-яА-ЯёЁ]+$', token):\n",
    "            # special symbols is left as-is\n",
    "            # cases like 'HTLV-вирус', 'HTML-страница', 'ascii-код',\n",
    "            #     'ftp-аутентификация' etc.\n",
    "            pass\n",
    "\n",
    "        elif re.match(r'\\d+-[а-яА-ЯёЁ]+$', token):\n",
    "            # 20-градусный\n",
    "            token = re.sub(r'\\d+', '<NUM_UINT>', token)\n",
    "            \n",
    "        # garbage tokens are removed\n",
    "        elif re.search(r'[^a-zA-Zа-яА-ЯёЁ°²³.-]', token) \\\n",
    "               or (re.match(r'[a-zA-Z]', token)\n",
    "               and re.match(r'[а-яА-ЯёЁ]', token)) \\\n",
    "               or (token in punctuation):\n",
    "            \n",
    "            continue\n",
    "            \n",
    "        processed_seq.append(token)\n",
    "    \n",
    "    return processed_seq"
   ]
  },
  {
   "cell_type": "code",
   "execution_count": 13,
   "metadata": {},
   "outputs": [],
   "source": [
    "def clear_stdin():\n",
    "    '''Helper function for tqdm library glitches (newlines).\n",
    "    '''\n",
    "    if hasattr(tqdm, '_instances'):\n",
    "        for instance in list(tqdm._instances):\n",
    "            tqdm._decr_instances(instance)\n",
    "\n",
    "def pos_lemma_word(word):\n",
    "    '''POS-tag and lemmatize one word,\n",
    "    can be used separately from the main preprocess_pymorphy function.\n",
    "    '''\n",
    "    if '<num' in word.lower() or word.isdecimal():\n",
    "        word_lemma = word\n",
    "        word_pos = 'NUMR'\n",
    "        word_lemma_pos = word+'_NUMR'\n",
    "    else:\n",
    "        res = morph.parse(word)[0]\n",
    "        if res.tag.POS and res.normal_form and len(res.tag.POS)>1 \\\n",
    "            and res.normal_form not in russian_stopwords:\n",
    "            word_lemma = res.normal_form\n",
    "            word_pos = res.tag.POS\n",
    "            word_lemma_pos = str(res.normal_form) + '_' + str(res.tag.POS)\n",
    "            \n",
    "        else:\n",
    "            word_lemma = None\n",
    "            word_pos = None\n",
    "            word_lemma_pos = None\n",
    "            \n",
    "    return word_lemma, word_pos, word_lemma_pos\n",
    "            \n",
    "def preprocess_pymorphy(article):\n",
    "    '''\n",
    "    POS-tag and lemmatize a text.\n",
    "    \n",
    "    Args:\n",
    "        article:      list of strings - tokenized text; here, a wiki article.\n",
    "    '''\n",
    "    \n",
    "    clear_stdin()\n",
    "\n",
    "    lemmas = []\n",
    "    pos = []\n",
    "    lemma_pos = []    \n",
    "\n",
    "    for word in article:\n",
    "\n",
    "        word_lemma, word_pos, word_lemma_pos = pos_lemma_word(word)\n",
    "\n",
    "        if word_lemma is not None:\n",
    "            lemmas.append(word_lemma)\n",
    "            pos.append(word_pos)\n",
    "            lemma_pos.append(word_lemma_pos)\n",
    "\n",
    "        else:\n",
    "            continue\n",
    "\n",
    "    return lemmas, pos, lemma_pos"
   ]
  },
  {
   "cell_type": "code",
   "execution_count": null,
   "metadata": {},
   "outputs": [],
   "source": [
    "#preprocess_pymorphy(replace_tokens('Как твои крепости +4 -32.4 jhasdb3u4 красиво-нет из-за 100000'))"
   ]
  },
  {
   "cell_type": "code",
   "execution_count": 145,
   "metadata": {},
   "outputs": [],
   "source": [
    "#replace_tokens(\"Рыбаков.\\n\\nФакультет ВШОПФ им. Н.\\xa0И.\\xa0Лобачевского\\xa0— базовый Э,Ж ; 35.3 -1 1984 1002084 nlp-коммьюнити text.com\")"
   ]
  },
  {
   "cell_type": "markdown",
   "metadata": {},
   "source": [
    "### Saving Preprocessed Corpus"
   ]
  },
  {
   "cell_type": "code",
   "execution_count": 337,
   "metadata": {
    "scrolled": true
   },
   "outputs": [
    {
     "name": "stderr",
     "output_type": "stream",
     "text": [
      "Process Wikipedia\n",
      "[=======] 628950                                                     \n",
      "Wikipedia has been processed: 50651403 lines, 628950 articles\n"
     ]
    }
   ],
   "source": [
    "parsed_corpus = 'wiki_articles_parsed_part2.txt'\n",
    "with open(parsed_corpus, 'wt', encoding='utf-8') as f:\n",
    "    # to export lemmas, pos and lemma_pos:\n",
    "    #[print(preprocess_pymorphy(replace_tokens(art[2])), file=f) for art in Wikipedia().articles()]\n",
    "    \n",
    "    # to export only lemma_pos:\n",
    "    [print(preprocess_pymorphy(replace_tokens(art[2]))[2], file=f) for art in Wikipedia().articles()]"
   ]
  },
  {
   "cell_type": "code",
   "execution_count": 338,
   "metadata": {},
   "outputs": [],
   "source": [
    "wiki_vw = open('wiki_articles_parsed_part2.txt', encoding='utf-8').readlines()"
   ]
  },
  {
   "cell_type": "code",
   "execution_count": 339,
   "metadata": {},
   "outputs": [],
   "source": [
    "import ast"
   ]
  },
  {
   "cell_type": "code",
   "execution_count": 340,
   "metadata": {},
   "outputs": [
    {
     "name": "stderr",
     "output_type": "stream",
     "text": [
      "100%|██████████| 628950/628950 [01:40<00:00, 6253.27it/s] \n"
     ]
    }
   ],
   "source": [
    "wiki_lp = []\n",
    "# wiki_l = []\n",
    "# wiki_p = []\n",
    "\n",
    "clear_stdin()\n",
    "\n",
    "for i in tqdm(wiki_vw):\n",
    "    output = ast.literal_eval(i)\n",
    "    # if lemmas, pos and lemma_pos were exported earlier:\n",
    "#     wiki_l.append(output[0])\n",
    "#     wiki_p.append(output[1])\n",
    "#     wiki_lp.append(output[2])\n",
    "\n",
    "    # if only lemma_pos was exported\n",
    "    wiki_lp.append(output)"
   ]
  },
  {
   "cell_type": "markdown",
   "metadata": {},
   "source": [
    "### Filtering Wiki Corpus and Saving it in CSV."
   ]
  },
  {
   "cell_type": "code",
   "execution_count": 341,
   "metadata": {},
   "outputs": [],
   "source": [
    "wiki_lp = [i for i in wiki_lp if len(i)>15]\n",
    "\n",
    "# if lemma and pos were also exported:\n",
    "# wiki_l = [i for i in wiki_l if len(i)>15]\n",
    "# wiki_p = [i for i in wiki_p if len(i)>15]"
   ]
  },
  {
   "cell_type": "code",
   "execution_count": null,
   "metadata": {},
   "outputs": [],
   "source": [
    "# print(\"Unique POS-tags in the corpus:\", len(dict(Counter(list(chain.from_iterable(wiki_p))))))"
   ]
  },
  {
   "cell_type": "code",
   "execution_count": 343,
   "metadata": {},
   "outputs": [
    {
     "name": "stdout",
     "output_type": "stream",
     "text": [
      "Unique tokens in the corpus: 1101039\n"
     ]
    }
   ],
   "source": [
    "print(\"Unique tokens in the corpus:\", len(dict(Counter(list(chain.from_iterable(wiki_lp))))))"
   ]
  },
  {
   "cell_type": "code",
   "execution_count": 344,
   "metadata": {},
   "outputs": [],
   "source": [
    "wiki_df = pd.DataFrame()\n",
    "\n",
    "wiki_df['lemma_pos'] = wiki_lp\n",
    "\n",
    "# if lemma and pos were also exported:\n",
    "# wiki_df['lemmas'] = wiki_l\n",
    "# wiki_df['pos'] = wiki_p\n",
    "\n",
    "wiki_df.to_csv('wikipedia_processed_lemma-pos_part2.csv', index=False) "
   ]
  },
  {
   "cell_type": "code",
   "execution_count": 345,
   "metadata": {},
   "outputs": [
    {
     "data": {
      "text/html": [
       "<div>\n",
       "<style scoped>\n",
       "    .dataframe tbody tr th:only-of-type {\n",
       "        vertical-align: middle;\n",
       "    }\n",
       "\n",
       "    .dataframe tbody tr th {\n",
       "        vertical-align: top;\n",
       "    }\n",
       "\n",
       "    .dataframe thead th {\n",
       "        text-align: right;\n",
       "    }\n",
       "</style>\n",
       "<table border=\"1\" class=\"dataframe\">\n",
       "  <thead>\n",
       "    <tr style=\"text-align: right;\">\n",
       "      <th></th>\n",
       "      <th>lemma_pos</th>\n",
       "    </tr>\n",
       "  </thead>\n",
       "  <tbody>\n",
       "    <tr>\n",
       "      <th>0</th>\n",
       "      <td>[верхний_ADJF, далъёль_NOUN, устарый_ADJS, вер...</td>\n",
       "    </tr>\n",
       "    <tr>\n",
       "      <th>1</th>\n",
       "      <td>[верхний_ADJF, коммуна_NOUN, река_NOUN, россия...</td>\n",
       "    </tr>\n",
       "    <tr>\n",
       "      <th>2</th>\n",
       "      <td>[верхний_ADJF, налдэг_NOUN, река_NOUN, россия_...</td>\n",
       "    </tr>\n",
       "    <tr>\n",
       "      <th>3</th>\n",
       "      <td>[верхний_ADJF, омр_NOUN, река_NOUN, россия_NOU...</td>\n",
       "    </tr>\n",
       "    <tr>\n",
       "      <th>4</th>\n",
       "      <td>[верхний_ADJF, пидж_NOUN, река_NOUN, россия_NO...</td>\n",
       "    </tr>\n",
       "  </tbody>\n",
       "</table>\n",
       "</div>"
      ],
      "text/plain": [
       "                                           lemma_pos\n",
       "0  [верхний_ADJF, далъёль_NOUN, устарый_ADJS, вер...\n",
       "1  [верхний_ADJF, коммуна_NOUN, река_NOUN, россия...\n",
       "2  [верхний_ADJF, налдэг_NOUN, река_NOUN, россия_...\n",
       "3  [верхний_ADJF, омр_NOUN, река_NOUN, россия_NOU...\n",
       "4  [верхний_ADJF, пидж_NOUN, река_NOUN, россия_NO..."
      ]
     },
     "execution_count": 345,
     "metadata": {},
     "output_type": "execute_result"
    }
   ],
   "source": [
    "wiki_df.head()"
   ]
  },
  {
   "cell_type": "markdown",
   "metadata": {},
   "source": [
    "### Saving Processed Articles in Vowpal Wabbit Format"
   ]
  },
  {
   "cell_type": "code",
   "execution_count": 346,
   "metadata": {},
   "outputs": [],
   "source": [
    "def save_wiki_txt(filename, savelist):\n",
    "    with open(filename, 'wt') as f:\n",
    "        for i in savelist:\n",
    "            print(' '.join(i), file=f)"
   ]
  },
  {
   "cell_type": "code",
   "execution_count": 204,
   "metadata": {},
   "outputs": [],
   "source": [
    "save_wiki_txt(filename='wiki_lemma_pos_part2.txt', savelist=wiki_lp)\n",
    "\n",
    "# if lemma and pos were also exported:\n",
    "#save_wiki_txt(filename='wiki_lemmas.txt', savelist=wiki_l)\n",
    "#save_wiki_txt(filename='wiki_pos.txt', savelist=wiki_p)"
   ]
  },
  {
   "cell_type": "markdown",
   "metadata": {},
   "source": [
    "### Optional: Shorter random subcorpus of wiki for faster topic modelling\n",
    "If you want to experiment with smaller corpus to speed up, create a tandom subcorpus of desired maxlen"
   ]
  },
  {
   "cell_type": "code",
   "execution_count": 348,
   "metadata": {},
   "outputs": [],
   "source": [
    "wiki_full = open('wiki_lemma_pos.txt').readlines()"
   ]
  },
  {
   "cell_type": "code",
   "execution_count": 128,
   "metadata": {},
   "outputs": [
    {
     "data": {
      "text/plain": [
       "'высокий_ADJF школа_NOUN общий_ADJF прикладной_ADJF'"
      ]
     },
     "execution_count": 128,
     "metadata": {},
     "output_type": "execute_result"
    }
   ],
   "source": [
    "wiki_full[0][:50]"
   ]
  },
  {
   "cell_type": "code",
   "execution_count": 129,
   "metadata": {},
   "outputs": [],
   "source": [
    "from random import shuffle\n",
    "shuffle(wiki_full)     # shuffle full corpus"
   ]
  },
  {
   "cell_type": "code",
   "execution_count": 130,
   "metadata": {},
   "outputs": [
    {
     "data": {
      "text/plain": [
       "'кришул-негр_NOUN фекете-кёрёша_NOUN река_NOUN запа'"
      ]
     },
     "execution_count": 130,
     "metadata": {},
     "output_type": "execute_result"
    }
   ],
   "source": [
    "wiki_full[0][:50]"
   ]
  },
  {
   "cell_type": "code",
   "execution_count": 131,
   "metadata": {},
   "outputs": [
    {
     "data": {
      "text/plain": [
       "303469"
      ]
     },
     "execution_count": 131,
     "metadata": {},
     "output_type": "execute_result"
    }
   ],
   "source": [
    "maxlen = 1000000\n",
    "wiki_short = wiki_full[:maxlen]\n",
    "len(wiki_short)"
   ]
  },
  {
   "cell_type": "code",
   "execution_count": 57,
   "metadata": {},
   "outputs": [
    {
     "data": {
      "text/plain": [
       "'бомбомёт_NOUN устройство_NOUN судно_NOUN сбрасывание_NOUN глубинный_ADJF бомба_NOUN морской_ADJF бомбомёт_NOUN огневой_ADJF средство_NOUN надводный_ADJF судно_NOUN стрельба_NOUN глубинный_ADJF бомба_NOUN цель_NOUN борьба_NOUN подводный_ADJF лодка_NOUN противоторпедный_ADJF оборона_NOUN бомбомёт_NOUN бывать_VERB механический_ADJF штоковый_ADJF шточный_ADJF часто_ADVB неправильно_ADVB отождествлять_VERB бомбосбрасыватель_NOUN газодинамический_ADJF реактивный_ADJF сантиметр_NOUN также_CONJ морской_ADJF миномёт_NOUN хеджхог_NOUN ссылка_NOUN\\n'"
      ]
     },
     "execution_count": 57,
     "metadata": {},
     "output_type": "execute_result"
    }
   ],
   "source": [
    "#wiki_short[1001]"
   ]
  },
  {
   "cell_type": "code",
   "execution_count": 318,
   "metadata": {},
   "outputs": [],
   "source": [
    "def save_wiki(filename, savelist):\n",
    "    with open(filename, 'wt') as f:\n",
    "        for i in savelist:\n",
    "            print(i.rstrip('\\n'), file=f)"
   ]
  },
  {
   "cell_type": "code",
   "execution_count": 59,
   "metadata": {},
   "outputs": [],
   "source": [
    "save_wiki('wiki_subcorp.txt', wiki_short)"
   ]
  },
  {
   "cell_type": "code",
   "execution_count": 60,
   "metadata": {},
   "outputs": [
    {
     "data": {
      "text/plain": [
       "100000"
      ]
     },
     "execution_count": 60,
     "metadata": {},
     "output_type": "execute_result"
    }
   ],
   "source": [
    "wiki_short = open('wiki_subcorp.txt').readlines()\n",
    "len(wiki_short)"
   ]
  },
  {
   "cell_type": "markdown",
   "metadata": {},
   "source": [
    "### Minor Additional Filtering, Creating Bigrams & Converting Data to word:count format for BigARTM"
   ]
  },
  {
   "cell_type": "markdown",
   "metadata": {},
   "source": [
    "When building topic models, additional stop words were discovered that should be also removed from the corpus."
   ]
  },
  {
   "cell_type": "code",
   "execution_count": 391,
   "metadata": {},
   "outputs": [],
   "source": [
    "from gensim.models import Phrases"
   ]
  },
  {
   "cell_type": "code",
   "execution_count": 385,
   "metadata": {},
   "outputs": [],
   "source": [
    "wiki_full = open('wiki_lemma_pos.txt', encoding='utf-8').readlines() + \\\n",
    "            open('wiki_lemma_pos_part2.txt', encoding='utf-8').readlines()"
   ]
  },
  {
   "cell_type": "code",
   "execution_count": 421,
   "metadata": {},
   "outputs": [],
   "source": [
    "def add_bigrams(docs):\n",
    "    '''Add bigrams to the corpus using `gensim.models.Phrases`\n",
    "    '''\n",
    "    clear_stdin()\n",
    "    docs = [a.split() for a in docs]\n",
    "    bigram = Phrases(docs, min_count=3, delimiter=b'+')\n",
    "    for idx in tqdm(range(len(docs))):\n",
    "        for token in bigram[docs[idx]]:\n",
    "            if '+' in token:\n",
    "                # Token is a bigram, add to document.\n",
    "                docs[idx].append(token)\n",
    "    docs = [' '.join(a) for a in docs]    \n",
    "    return docs"
   ]
  },
  {
   "cell_type": "code",
   "execution_count": 422,
   "metadata": {},
   "outputs": [
    {
     "name": "stderr",
     "output_type": "stream",
     "text": [
      "100%|██████████| 637568/637568 [05:49<00:00, 1826.48it/s]\n"
     ]
    }
   ],
   "source": [
    "wiki_full = add_bigrams(wiki_full)"
   ]
  },
  {
   "cell_type": "code",
   "execution_count": 423,
   "metadata": {},
   "outputs": [
    {
     "data": {
      "text/plain": [
       "637568"
      ]
     },
     "execution_count": 423,
     "metadata": {},
     "output_type": "execute_result"
    }
   ],
   "source": [
    "len(wiki_full)   # number of articles in preprocessed wiki dataset"
   ]
  },
  {
   "cell_type": "code",
   "execution_count": 425,
   "metadata": {},
   "outputs": [],
   "source": [
    "#wiki_full[0]"
   ]
  },
  {
   "cell_type": "code",
   "execution_count": 359,
   "metadata": {},
   "outputs": [
    {
     "data": {
      "text/plain": [
       "1684495"
      ]
     },
     "execution_count": 359,
     "metadata": {},
     "output_type": "execute_result"
    }
   ],
   "source": [
    "len(set(chain.from_iterable([i.split() for i in wiki_full])))  # unique tokens in preprocessed wiki dataset"
   ]
  },
  {
   "cell_type": "code",
   "execution_count": 426,
   "metadata": {},
   "outputs": [],
   "source": [
    "def corpus_to_vw(corpus, filename='output.txt'):\n",
    "    ''' Convert text to Vowpal Wabbit format.\n",
    "    Each text will be presented as a bag of words, e.g. \"doc1 cat:3 sat:5 mat:1\",\n",
    "    where the number represents how many times a word appears in current document.\n",
    "    \n",
    "    Args:\n",
    "        corpus:     a list of strings with preprocessed documents.\n",
    "    '''\n",
    "    corpus_counter = [dict(Counter(i.strip('\\n').split())) for i in corpus]\n",
    "    exclusions = ['также_CONJ', 'б_PRCL', 'около_PREP', 'ещё_ADVB', 'э_INTJ', 'её_ADJF', 'весь_ADJF',\n",
    "                  'однако_CONJ', 'например_CONJ', 'из-за_PREP', 'среди_PREP', 'свой_ADJF']\n",
    "    \n",
    "    with open(filename, 'wt', encoding='utf-8') as f:\n",
    "        doc_n = 1\n",
    "        for article in corpus_counter:\n",
    "            text = \"doc{} \".format(doc_n)\n",
    "            for k, v in article.items():\n",
    "                if k not in exclusions:\n",
    "                    text += str(k) + ':' + str(v) + ' '\n",
    "            print(text, file=f)\n",
    "            doc_n+=1\n",
    "corpus_to_vw(wiki_full, 'wiki_full_vw.txt')"
   ]
  },
  {
   "cell_type": "code",
   "execution_count": 14,
   "metadata": {},
   "outputs": [],
   "source": [
    "# testing = open('wiki_full_vw.txt').readlines()\n",
    "# testing[-1]"
   ]
  },
  {
   "cell_type": "markdown",
   "metadata": {},
   "source": [
    "## Loading & Preprocessing Metaphor corpus"
   ]
  },
  {
   "cell_type": "code",
   "execution_count": 7,
   "metadata": {},
   "outputs": [],
   "source": [
    "import pandas as pd\n",
    "from tqdm import tqdm"
   ]
  },
  {
   "cell_type": "code",
   "execution_count": 8,
   "metadata": {},
   "outputs": [],
   "source": [
    "metcorp = pd.read_csv('metaphor_dataset.csv', index_col=False)"
   ]
  },
  {
   "cell_type": "code",
   "execution_count": 9,
   "metadata": {},
   "outputs": [
    {
     "data": {
      "text/html": [
       "<div>\n",
       "<style scoped>\n",
       "    .dataframe tbody tr th:only-of-type {\n",
       "        vertical-align: middle;\n",
       "    }\n",
       "\n",
       "    .dataframe tbody tr th {\n",
       "        vertical-align: top;\n",
       "    }\n",
       "\n",
       "    .dataframe thead th {\n",
       "        text-align: right;\n",
       "    }\n",
       "</style>\n",
       "<table border=\"1\" class=\"dataframe\">\n",
       "  <thead>\n",
       "    <tr style=\"text-align: right;\">\n",
       "      <th></th>\n",
       "      <th>sent</th>\n",
       "      <th>verb</th>\n",
       "      <th>Class</th>\n",
       "      <th>sent_with_target</th>\n",
       "    </tr>\n",
       "  </thead>\n",
       "  <tbody>\n",
       "    <tr>\n",
       "      <th>0</th>\n",
       "      <td>Конечно же , Вам не нужно все время ребенка му...</td>\n",
       "      <td>бомбардировать</td>\n",
       "      <td>1</td>\n",
       "      <td>Конечно же , Вам не нужно все время TARGET реб...</td>\n",
       "    </tr>\n",
       "    <tr>\n",
       "      <th>1</th>\n",
       "      <td>Добрынин тогда говорил Шевченко , \" что Центр ...</td>\n",
       "      <td>бомбардировать</td>\n",
       "      <td>1</td>\n",
       "      <td>Добрынин тогда говорил Шевченко , \" что Центр ...</td>\n",
       "    </tr>\n",
       "    <tr>\n",
       "      <th>2</th>\n",
       "      <td>Если принять во внимание , как настойчиво « гр...</td>\n",
       "      <td>бомбардировать</td>\n",
       "      <td>1</td>\n",
       "      <td>Если принять во внимание , как настойчиво « гр...</td>\n",
       "    </tr>\n",
       "  </tbody>\n",
       "</table>\n",
       "</div>"
      ],
      "text/plain": [
       "                                                sent            verb  Class  \\\n",
       "0  Конечно же , Вам не нужно все время ребенка му...  бомбардировать      1   \n",
       "1  Добрынин тогда говорил Шевченко , \" что Центр ...  бомбардировать      1   \n",
       "2  Если принять во внимание , как настойчиво « гр...  бомбардировать      1   \n",
       "\n",
       "                                    sent_with_target  \n",
       "0  Конечно же , Вам не нужно все время TARGET реб...  \n",
       "1  Добрынин тогда говорил Шевченко , \" что Центр ...  \n",
       "2  Если принять во внимание , как настойчиво « гр...  "
      ]
     },
     "execution_count": 9,
     "metadata": {},
     "output_type": "execute_result"
    }
   ],
   "source": [
    "metcorp.head(3)"
   ]
  },
  {
   "cell_type": "markdown",
   "metadata": {},
   "source": [
    "### Preprocessing target sentences: lemmatization, pos-tagging, removing stop words"
   ]
  },
  {
   "cell_type": "markdown",
   "metadata": {},
   "source": [
    "Applying the same preprocessing as to Wikipedia corpus and saving in vowpal wabbit format."
   ]
  },
  {
   "cell_type": "markdown",
   "metadata": {},
   "source": [
    "Experimenting part, skip to uncommented lines of code to proceed with the pipeline"
   ]
  },
  {
   "cell_type": "code",
   "execution_count": 81,
   "metadata": {},
   "outputs": [],
   "source": [
    "# processed_sents = [' '.join(preprocess_pymorphy(replace_tokens(i))[2]) for i in list(metcorp['sent'])]"
   ]
  },
  {
   "cell_type": "code",
   "execution_count": 85,
   "metadata": {},
   "outputs": [
    {
     "data": {
      "text/plain": [
       "'воидти_GRND долго_ADVB стоялый_ADJS воздеть_PRTF небо_NOUN рука_NOUN стоялый_ADJS сзади_ADVB молиться_GRND страх_NOUN ибо_CONJ видение_NOUN страх_ADVB ужас_NOUN'"
      ]
     },
     "execution_count": 85,
     "metadata": {},
     "output_type": "execute_result"
    }
   ],
   "source": [
    "# processed_sents[1392]"
   ]
  },
  {
   "cell_type": "code",
   "execution_count": 83,
   "metadata": {},
   "outputs": [
    {
     "data": {
      "text/plain": [
       "(4, [1393, 1412, 6067, 6288])"
      ]
     },
     "execution_count": 83,
     "metadata": {},
     "output_type": "execute_result"
    }
   ],
   "source": [
    "# zeros = 0\n",
    "# indexes = []\n",
    "\n",
    "# for i, e in enumerate(processed_sents):\n",
    "#     if len(e) == 0:\n",
    "#         zeros += 1\n",
    "#         indexes.append(i)\n",
    "# zeros, indexes"
   ]
  },
  {
   "cell_type": "code",
   "execution_count": 88,
   "metadata": {},
   "outputs": [
    {
     "data": {
      "text/plain": [
       "([], [], [])"
      ]
     },
     "execution_count": 88,
     "metadata": {},
     "output_type": "execute_result"
    }
   ],
   "source": [
    "# preprocess_pymorphy(replace_tokens((metcorp['sent'][1393])))"
   ]
  },
  {
   "cell_type": "code",
   "execution_count": 74,
   "metadata": {},
   "outputs": [
    {
     "data": {
      "text/plain": [
       "['Не на того TARGET !',\n",
       " 'Не на того TARGET !',\n",
       " 'Меня это TARGET .',\n",
       " 'Вам что TARGET ?)']"
      ]
     },
     "execution_count": 74,
     "metadata": {},
     "output_type": "execute_result"
    }
   ],
   "source": [
    "# [list(metcorp['sent_with_target'])[1393],    # напаcть\n",
    "#  list(metcorp['sent_with_target'])[1412],    # напасть\n",
    "#  list(metcorp['sent_with_target'])[6067],    # взорвать\n",
    "#  list(metcorp['sent_with_target'])[6288]]    # взвесить"
   ]
  },
  {
   "cell_type": "markdown",
   "metadata": {},
   "source": [
    "These short sentences above disappear when preprocessing. Let's get rid of them so that the corpus can be transfomed using the topic model"
   ]
  },
  {
   "cell_type": "markdown",
   "metadata": {},
   "source": [
    "Let's check if there are still zero-lengths if the verbs are preserved."
   ]
  },
  {
   "cell_type": "code",
   "execution_count": 70,
   "metadata": {},
   "outputs": [],
   "source": [
    "verbs = list(metcorp['verb'])\n",
    "sent_with_verb = [e.replace('TARGET', verbs[i]) for i, e in enumerate(list(metcorp['sent_with_target']))]\n",
    "targets = list(metcorp['Class'])"
   ]
  },
  {
   "cell_type": "code",
   "execution_count": 71,
   "metadata": {},
   "outputs": [
    {
     "data": {
      "text/plain": [
       "(7077, 7077)"
      ]
     },
     "execution_count": 71,
     "metadata": {},
     "output_type": "execute_result"
    }
   ],
   "source": [
    "processed_sents = []\n",
    "processed_targets = []\n",
    "emptied_indexes = []\n",
    "\n",
    "for i, e in enumerate(sent_with_verb):\n",
    "    res = preprocess_pymorphy(replace_tokens(e))[2]\n",
    "    if len(res) < 3:\n",
    "        emptied_indexes.append(i)\n",
    "        continue\n",
    "    else:\n",
    "        processed_targets.append(targets[i])\n",
    "        processed_sents.append(' '.join(res))\n",
    "\n",
    "len(processed_targets), len(processed_sents)"
   ]
  },
  {
   "cell_type": "code",
   "execution_count": 74,
   "metadata": {},
   "outputs": [],
   "source": [
    "# emptied_indexes"
   ]
  },
  {
   "cell_type": "code",
   "execution_count": 15,
   "metadata": {},
   "outputs": [],
   "source": [
    "df = pd.DataFrame()\n",
    "df['sents'] = processed_sents\n",
    "df['targets'] = processed_targets\n",
    "df.to_csv('metcorp.csv', index=False)"
   ]
  },
  {
   "cell_type": "code",
   "execution_count": 500,
   "metadata": {},
   "outputs": [
    {
     "name": "stderr",
     "output_type": "stream",
     "text": [
      "100%|██████████| 7077/7077 [00:00<00:00, 24538.43it/s]\n"
     ]
    }
   ],
   "source": [
    "processed_sents = add_bigrams(processed_sents)"
   ]
  },
  {
   "cell_type": "code",
   "execution_count": 501,
   "metadata": {},
   "outputs": [],
   "source": [
    "corpus_to_vw(processed_sents, 'metcorp_vw.txt')   # save in Vowpal Wabbit format"
   ]
  },
  {
   "cell_type": "markdown",
   "metadata": {},
   "source": [
    "## Running BigARTM on Wikipedia"
   ]
  },
  {
   "cell_type": "code",
   "execution_count": 6,
   "metadata": {},
   "outputs": [],
   "source": [
    "import artm"
   ]
  },
  {
   "cell_type": "markdown",
   "metadata": {},
   "source": [
    "When creating batch_vectorizer for the corpus for the first time (can take a several minutes to load):"
   ]
  },
  {
   "cell_type": "code",
   "execution_count": 2,
   "metadata": {},
   "outputs": [],
   "source": [
    "# batch_vectorizer = artm.BatchVectorizer(data_path='wiki_full_vw.txt', data_format='vowpal_wabbit',\n",
    "#                                         collection_name='wiki', target_folder='wiki_batches')"
   ]
  },
  {
   "cell_type": "markdown",
   "metadata": {},
   "source": [
    "When you already have batches (runs in seconds):"
   ]
  },
  {
   "cell_type": "code",
   "execution_count": 7,
   "metadata": {},
   "outputs": [],
   "source": [
    "batch_vectorizer = artm.BatchVectorizer(data_path='wiki_batches', data_format='batches')"
   ]
  },
  {
   "cell_type": "markdown",
   "metadata": {},
   "source": [
    "Create (gather) or load the dictionary."
   ]
  },
  {
   "cell_type": "code",
   "execution_count": 8,
   "metadata": {},
   "outputs": [],
   "source": [
    "dictionary = artm.Dictionary()\n",
    "# dictionary.gather(data_path='wiki_batches')\n",
    "dictionary.load('./artm/wiki_with_bi_artm_dictionary.dict')  # if you already have a dictionary, load it here"
   ]
  },
  {
   "cell_type": "markdown",
   "metadata": {},
   "source": [
    "Filter the dictionary - either with `max_dictionary_size` and/or with more specific params. \n",
    "\n",
    "Note: params with `_rate` - percentages, without - absolute values."
   ]
  },
  {
   "cell_type": "code",
   "execution_count": 469,
   "metadata": {},
   "outputs": [
    {
     "data": {
      "text/plain": [
       "artm.Dictionary(name=b34b390b-787d-429a-9044-c5f32ca097fd, num_entries=317995)"
      ]
     },
     "execution_count": 469,
     "metadata": {},
     "output_type": "execute_result"
    }
   ],
   "source": [
    "#dictionary.filter(max_dictionary_size=300000)  # min_tf=10, min_df_rate=0.00001, max_df_rate=0.5\n",
    "dictionary.filter(min_df_rate=0.00002, inplace=True)\n",
    "\n",
    "# original 2326254 --> 317995"
   ]
  },
  {
   "cell_type": "markdown",
   "metadata": {},
   "source": [
    "Save the dictionary - either as `.save` or as `.save_text` (of you want to open and look at it).\n",
    "\n",
    "If saved as text, use `.load_from_text` when loading."
   ]
  },
  {
   "cell_type": "code",
   "execution_count": 471,
   "metadata": {},
   "outputs": [],
   "source": [
    "dictionary.save(dictionary_path='artm/wiki_with_bi_artm_dictionary')\n",
    "# dictionary.save_text(dictionary_path='artm/wiki_with_bi_artm_dictionary')  # option to save dict as text"
   ]
  },
  {
   "cell_type": "markdown",
   "metadata": {},
   "source": [
    "By default, BigARTM exploits all available CPUs. Set `WORKERS` variable to a different number, if you want to use less CPU (computaions become slower)."
   ]
  },
  {
   "cell_type": "code",
   "execution_count": 472,
   "metadata": {},
   "outputs": [],
   "source": [
    "import os\n",
    "WORKERS = max(os.cpu_count() - 2, 1)"
   ]
  },
  {
   "cell_type": "markdown",
   "metadata": {},
   "source": [
    "## Training one ARTM model\n",
    "Create the model and assign score trackers and regilarizers. They can be assigned either in the model parameters or later. Below, you can examine both options."
   ]
  },
  {
   "cell_type": "code",
   "execution_count": 564,
   "metadata": {},
   "outputs": [],
   "source": [
    "T = 60\n",
    "model = artm.ARTM(num_topics=T, dictionary=dictionary, num_processors=WORKERS,\n",
    "                  scores=[artm.PerplexityScore(name='PerplexityScore', dictionary=dictionary)],\n",
    "                  regularizers=[artm.SmoothSparsePhiRegularizer(name='SparsePhi', tau=-2.5)])\n",
    "\n",
    "# model.scores.add(artm.PerplexityScore(name='PerplexityScore',\n",
    "#                                       dictionary=dictionary), overwrite=True)\n",
    "model.scores.add(artm.SparsityPhiScore(name='SparsityPhiScore'))\n",
    "model.scores.add(artm.SparsityThetaScore(name='SparsityThetaScore'))\n",
    "model.scores.add(artm.TopTokensScore(name='top_words', num_tokens=15))"
   ]
  },
  {
   "cell_type": "code",
   "execution_count": 565,
   "metadata": {},
   "outputs": [],
   "source": [
    "# model.regularizers.add(artm.SmoothSparsePhiRegularizer(name='sparse_phi_regularizer'))\n",
    "model.regularizers.add(artm.SmoothSparseThetaRegularizer(name='sparse_theta_regularizer', tau=-0.001))\n",
    "model.regularizers.add(artm.DecorrelatorPhiRegularizer(name='decorrelator_phi_regularizer', tau=1e+4))"
   ]
  },
  {
   "cell_type": "code",
   "execution_count": 566,
   "metadata": {},
   "outputs": [],
   "source": [
    "model.fit_offline(batch_vectorizer=batch_vectorizer, num_collection_passes=15)"
   ]
  },
  {
   "cell_type": "code",
   "execution_count": 567,
   "metadata": {},
   "outputs": [],
   "source": [
    "model.save('artm_p_wt_off_'+str(T), model_name='p_wt')\n",
    "model.save('artm_n_wt_off_'+str(T), model_name='n_wt')"
   ]
  },
  {
   "cell_type": "code",
   "execution_count": 582,
   "metadata": {
    "scrolled": true
   },
   "outputs": [
    {
     "data": {
      "text/plain": [
       "8665.498046875"
      ]
     },
     "execution_count": 582,
     "metadata": {},
     "output_type": "execute_result"
    }
   ],
   "source": [
    "model.get_score('PerplexityScore').value  "
   ]
  },
  {
   "cell_type": "code",
   "execution_count": 583,
   "metadata": {},
   "outputs": [
    {
     "data": {
      "text/plain": [
       "0.9792346954345703"
      ]
     },
     "execution_count": 583,
     "metadata": {},
     "output_type": "execute_result"
    }
   ],
   "source": [
    "model.get_score('SparsityPhiScore').value "
   ]
  },
  {
   "cell_type": "code",
   "execution_count": 584,
   "metadata": {},
   "outputs": [
    {
     "data": {
      "text/plain": [
       "0.8392280340194702"
      ]
     },
     "execution_count": 584,
     "metadata": {},
     "output_type": "execute_result"
    }
   ],
   "source": [
    "model.get_score('SparsityThetaScore').value "
   ]
  },
  {
   "cell_type": "code",
   "execution_count": 554,
   "metadata": {},
   "outputs": [],
   "source": [
    "## no reg, 50 topics: perplexity = 2675, sparsityPhi=0.71, sparsityTheta=0.052787"
   ]
  },
  {
   "cell_type": "markdown",
   "metadata": {},
   "source": [
    "Plot Perplexity convergence. Examine when the graph is flattened, that's when you can stop iterating over the documents and train faster. \n",
    "\n",
    "Below, perplexity flattens at ~6-8th iteration. So when we train our next model, we can set `num_collection_passes=8`."
   ]
  },
  {
   "cell_type": "code",
   "execution_count": 3,
   "metadata": {},
   "outputs": [],
   "source": [
    "import matplotlib.pyplot as plt"
   ]
  },
  {
   "cell_type": "code",
   "execution_count": 585,
   "metadata": {},
   "outputs": [
    {
     "data": {
      "text/plain": [
       "Text(0.5, 1.0, 'ARTM Perplexity Score 60 topics')"
      ]
     },
     "execution_count": 585,
     "metadata": {},
     "output_type": "execute_result"
    },
    {
     "data": {
      "image/png": "[encoded data removed]",
      "text/plain": [
       "<Figure size 432x288 with 1 Axes>"
      ]
     },
     "metadata": {
      "needs_background": "light"
     },
     "output_type": "display_data"
    }
   ],
   "source": [
    "plt.plot(model.score_tracker['PerplexityScore'].value)\n",
    "plt.title('ARTM Perplexity Score ' + str(T) + ' topics')"
   ]
  },
  {
   "cell_type": "markdown",
   "metadata": {},
   "source": [
    "Show top words for each topic. If some words are in many topics, decrease SparsityPhi Regulalizer coefficient `tau`."
   ]
  },
  {
   "cell_type": "code",
   "execution_count": 586,
   "metadata": {},
   "outputs": [],
   "source": [
    "tops = [str(k)+':'+' '.join(v) for k, v in model.score_tracker['top_words'].tokens[-1].items()]"
   ]
  },
  {
   "cell_type": "code",
   "execution_count": 587,
   "metadata": {
    "scrolled": true
   },
   "outputs": [
    {
     "data": {
      "text/plain": [
       "['topic_0:город_NOUN год_NOUN территория_NOUN тысяча_NOUN часть_NOUN столица_NOUN армянский_ADJF век_NOUN история_NOUN армения_NOUN время_NOUN грузия_NOUN центр_NOUN северный_ADJF южный_ADJF',\n",
       " 'topic_1:церковь_NOUN год_NOUN храм_NOUN монастырь_NOUN святой_ADJF православный_ADJF собор_NOUN епископ_NOUN духовный_ADJF епархия_NOUN митрополит_NOUN церковный_ADJF священник_NOUN русский_ADJF архиепископ_NOUN',\n",
       " 'topic_2:епископ_NOUN год_NOUN епархия_NOUN итальянский_ADJF папа_NOUN римский_ADJF католический_ADJF италия_NOUN святой_ADJF архиепископ_NOUN апостольский_ADJF церковь_NOUN рим_NOUN ссылка_NOUN мария_NOUN',\n",
       " 'topic_3:год_NOUN уезд_NOUN губерния_NOUN состав_NOUN 1918_NUMR 1920_NUMR 1917_NUMR 1919_NUMR число_NOUN 1924_NUMR городской_ADJF волость_NOUN провинция_NOUN войти_VERB 1927_NUMR',\n",
       " 'topic_4:остров_NOUN метр_NOUN озеро_NOUN гора_NOUN часть_NOUN вода_NOUN северный_ADJF территория_NOUN море_NOUN высота_NOUN горный_ADJF морской_ADJF южный_ADJF парк_NOUN долина_NOUN',\n",
       " 'topic_5:дерево_NOUN леса_NOUN птица_NOUN встречаться_VERB температура_NOUN часть_NOUN сантиметр_NOUN порода_NOUN почва_NOUN климат_NOUN очень_ADVB самый_ADJF средний_ADJF крупный_ADJF длинный_ADJF',\n",
       " 'topic_6:король_NOUN китай_NOUN китайский_ADJF царь_NOUN император_NOUN государство_NOUN япония_NOUN царство_NOUN корея_NOUN правитель_NOUN династия_NOUN империя_NOUN азия_NOUN глава_NOUN провинция_NOUN',\n",
       " 'topic_7:год_NOUN здание_NOUN строительство_NOUN завод_NOUN дом_NOUN памятник_NOUN построить_PRTS проект_NOUN архитектор_NOUN место_NOUN время_NOUN работа_NOUN комплекс_NOUN <NUM_UINT>-х_NUMR история_NOUN',\n",
       " 'topic_8:<NUM_UINT>-й_NUMR год_NOUN дивизия_NOUN <NUM_UINT>-го_NUMR <NUM_UINT>-я_NUMR командир_NOUN армия_NOUN военный_NOUN начальник_NOUN состав_NOUN стрелковый_ADJF полка_NOUN корпус_NOUN бригада_NOUN полк_NOUN',\n",
       " 'topic_9:год_NOUN 1_NUMR 2_NUMR сентябрь_NOUN октябрь_NOUN 3_NUMR май_NOUN июнь_NOUN июль_NOUN январь_NOUN март_NOUN декабрь_NOUN ноябрь_NOUN апрель_NOUN август_NOUN',\n",
       " 'topic_10:язык_NOUN русский_ADJF век_NOUN слово_NOUN культура_NOUN издание_NOUN история_NOUN литература_NOUN перевод_NOUN являться_VERB искусство_NOUN форма_NOUN русский_ADJF+язык_NOUN современный_ADJF текст_NOUN',\n",
       " 'topic_11:год_NOUN чемпионат_NOUN чемпион_NOUN сборный_ADJF кубок_NOUN мир_NOUN матч_NOUN тренер_NOUN состав_NOUN карьер_NOUN клуб_NOUN футболист_NOUN стать_VERB команда_NOUN сборная_NOUN',\n",
       " 'topic_12:сантиметр_NOUN растение_NOUN длина_NOUN край_NOUN лист_NOUN мм_INTJ вид_NOUN высота_NOUN ширина_NOUN цветок_NOUN описание_NOUN нижний_ADJF ботанический_ADJF диаметр_NOUN верхний_ADJF',\n",
       " 'topic_13:год_NOUN польский_ADJF германия_NOUN польша_NOUN время_NOUN война_NOUN немецкий_ADJF империя_NOUN дворец_NOUN монета_NOUN стать_VERB художник_NOUN мировой_ADJF+война_NOUN берлин_NOUN султан_NOUN',\n",
       " 'topic_14:<NUM_UINT>_NUMR <NUM_FLOAT>_NUMR <NUM_SINT>_NUMR население_NOUN человек_NOUN составлять_VERB год_NOUN данные_NOUN сайт_NOUN официальный_ADJF статистика_NOUN национальный_ADJF <NUM_SINT>_NUMR+<NUM_UINT>_NUMR мужчина_NOUN женщина_NOUN',\n",
       " 'topic_15:войско_NOUN армия_NOUN война_NOUN бой_NOUN отряд_NOUN флот_NOUN сила_NOUN корабль_NOUN часть_NOUN противник_NOUN командование_NOUN солдат_NOUN время_NOUN сражение_NOUN генерал_NOUN',\n",
       " 'topic_16:вид_NOUN род_NOUN семейство_NOUN примечание_NOUN тело_NOUN описание_NOUN ссылка_NOUN длина_NOUN животное_NOUN литература_NOUN крыло_NOUN самка_NOUN примечание_NOUN+литература_NOUN цвет_NOUN самец_NOUN',\n",
       " 'topic_17:театр_NOUN год_NOUN имя_NOUN народный_ADJF театральный_ADJF артист_NOUN режиссёр_NOUN спектакль_NOUN пьеса_NOUN опера_NOUN балет_NOUN постановка_NOUN актёр_NOUN искусство_NOUN сцена_NOUN',\n",
       " 'topic_18:река_NOUN водный_ADJF километр_NOUN реестр_NOUN бассейн_NOUN россия_NOUN речной_ADJF государственный_ADJF устье_NOUN приток_NOUN государственный_ADJF+водный_ADJF код_NOUN данные_NOUN водохозяйственный_ADJF протекать_VERB',\n",
       " 'topic_19:друг_NOUN человек_NOUN помощь_NOUN мочь_VERB посольство_NOUN время_NOUN самый_ADJF земля_NOUN сила_NOUN пытаться_VERB событие_NOUN становиться_VERB мир_NOUN дело_NOUN имя_NOUN',\n",
       " 'topic_20:коммуна_NOUN год_NOUN человек_NOUN франция_NOUN <NUM_FLOAT>_NUMR департамент_NOUN округ_ADVB кантон_NOUN список_NOUN население_NOUN женщина_NOUN неактивный_ADJF мужчина_NOUN ссылка_NOUN сантиметр_NOUN',\n",
       " 'topic_21:музей_NOUN художник_NOUN выставка_NOUN искусство_NOUN год_NOUN художественный_ADJF москва_NOUN разряд_NOUN парный_ADJF галерея_NOUN открытый_ADJF одиночный_ADJF турнир_NOUN япония_NOUN конкурс_NOUN',\n",
       " 'topic_22:время_NOUN мочь_VERB серия_NOUN человек_NOUN марка_NOUN новый_ADJF должный_ADJS очень_ADVB день_NOUN хотеть_VERB говорить_VERB выпуск_NOUN рука_NOUN слово_NOUN сказать_VERB',\n",
       " 'topic_23:год_NOUN олимпийский_ADJF место_NOUN игра_NOUN мир_NOUN соревнование_NOUN <NUM_UINT>-е_NUMR медаль_NOUN гонка_NOUN результат_NOUN ссылка_NOUN спорт_NOUN спортсмен_NOUN спортивный_ADJF участие_NOUN',\n",
       " 'topic_24:<NUM_FLOAT>_NUMR год_NOUN население_NOUN средний_ADJF человек_NOUN 18_NUMR семья_NOUN составить_VERB женщина_NOUN перепись_NOUN доход_NOUN возраст_NOUN данные_NOUN старший_COMP доллар_NOUN',\n",
       " 'topic_25:год_NOUN князь_NOUN иван_NOUN век_NOUN русский_ADJF литовский_ADJF великое_NOUN воевода_NOUN василий_NOUN род_NOUN московский_ADJF земля_NOUN княжество_NOUN крестьянин_NOUN фёдор_NOUN',\n",
       " 'topic_26:книга_NOUN жизнь_NOUN роман_NOUN работа_NOUN произведение_NOUN картина_NOUN автор_NOUN год_NOUN время_NOUN отец_NOUN творчество_NOUN писать_VERB художник_NOUN семья_NOUN писатель_NOUN',\n",
       " 'topic_27:станция_NOUN дорога_NOUN линия_NOUN железный_ADJF железнодорожный_ADJF железный_ADJF+дорога_NOUN путь_NOUN поезд_NOUN маршрут_NOUN год_NOUN платформа_NOUN участок_NOUN транспорт_NOUN движение_NOUN вагон_NOUN',\n",
       " 'topic_28:украина_NOUN <NUM_FLOAT>_NUMR код_NOUN совет_NOUN область_NOUN 2001_NUMR украинский_ADJF почтовый_ADJF год_NOUN сесть_VERB население_NOUN+перепись_NOUN человек_NOUN местный_ADJF ссылка_NOUN верховный_ADJF',\n",
       " 'topic_29:музыка_NOUN французский_ADJF музыкальный_ADJF композитор_NOUN немецкий_ADJF год_NOUN оркестр_NOUN де_PRCL париж_NOUN франция_NOUN концерт_NOUN инструмент_NOUN карл_NOUN хор_NOUN известный_ADJF',\n",
       " 'topic_30:университет_NOUN наука_NOUN институт_NOUN год_NOUN научный_ADJF профессор_NOUN работа_NOUN академия_NOUN школа_NOUN исследование_NOUN история_NOUN имя_NOUN факультет_NOUN кафедра_NOUN образование_NOUN',\n",
       " 'topic_31:компания_NOUN год_NOUN производство_NOUN миллион_NOUN предприятие_NOUN страна_NOUN крупный_ADJF рынок_NOUN тысяча_NOUN промышленность_NOUN экономический_ADJF являться_VERB экономика_NOUN развитие_NOUN финансовый_ADJF',\n",
       " 'topic_32:год_NOUN сын_NOUN король_NOUN де_PRCL граф_NOUN брат_NOUN дочь_NOUN смерть_NOUN жена_NOUN герцог_NOUN брак_NOUN стать_VERB отец_NOUN умереть_VERB ребёнок_NOUN',\n",
       " 'topic_33:александр_NOUN николай_NOUN иван_NOUN владимир_NOUN сергей_NOUN алексей_NOUN российский_ADJF андрей_NOUN василий_NOUN михаил_NOUN пётр_NOUN дмитрий_NOUN виктор_NOUN советский_ADJF борис_NOUN',\n",
       " 'topic_34:улица_NOUN дом_NOUN название_NOUN площадь_NOUN переулок_NOUN москва_NOUN проспект_NOUN город_NOUN район_NOUN сторона_NOUN проходить_VERB шоссе_NOUN проезд_NOUN далее_ADVB бывший_ADJF',\n",
       " 'topic_35:километр_NOUN расположить_PRTS население_NOUN находиться_VERB село_NOUN посёлок_NOUN сесть_VERB река_NOUN примечание_NOUN берег_NOUN центр_NOUN составлять_VERB год_NOUN север_NOUN юг_NOUN',\n",
       " 'topic_36:год_NOUN ссср_NOUN советский_ADJF газета_NOUN деятель_NOUN писатель_NOUN работать_VERB род_NOUN литература_NOUN биография_NOUN журнал_NOUN член_NOUN 1964_NUMR 1957_NUMR 1958_NUMR',\n",
       " 'topic_37:право_NOUN суд_NOUN год_NOUN закон_NOUN человек_NOUN власть_NOUN дело_NOUN лицо_NOUN решение_NOUN отношение_NOUN вопрос_NOUN должный_ADJS против_PREP представитель_NOUN свобода_NOUN',\n",
       " 'topic_38:система_NOUN программа_NOUN дать_PRTF мочь_VERB информация_NOUN проект_NOUN использование_NOUN сеть_NOUN возможность_NOUN работа_NOUN управление_NOUN сайт_NOUN являться_VERB технология_NOUN создание_NOUN',\n",
       " 'topic_39:система_NOUN звезда_NOUN космический_ADJF энергия_NOUN поверхность_NOUN планета_NOUN объект_NOUN спутник_NOUN метод_NOUN являться_VERB масса_NOUN обсерватория_NOUN наблюдение_NOUN солнечный_ADJF теория_NOUN',\n",
       " 'topic_40:республика_NOUN герб_NOUN казахстан_NOUN беларусь_NOUN район_NOUN часть_NOUN серебряный_ADJF щит_NOUN пол_NOUN золотой_ADJF республика_NOUN+беларусь_NOUN красный_ADJF год_NOUN государственный_ADJF золотой_NOUN',\n",
       " 'topic_41:год_NOUN житель_NOUN двор_NOUN деревня_NOUN состав_NOUN район_NOUN чело_NOUN согласно_PREP крым_NOUN крымский_ADJF уезд_NOUN волость_NOUN губерния_NOUN сельсовет_NOUN числиться_VERB',\n",
       " 'topic_42:команда_NOUN сезон_NOUN клуб_NOUN матч_NOUN турнир_NOUN год_NOUN лига_NOUN финал_NOUN чемпионат_NOUN игрок_NOUN победа_NOUN футбольный_ADJF место_NOUN кубок_NOUN раунд_NOUN',\n",
       " 'topic_43:год_NOUN тип_NOUN двигатель_NOUN автомобиль_NOUN машина_NOUN <NUM_FLOAT>_NUMR модель_NOUN конструкция_NOUN иметь_VERB установка_NOUN скорость_NOUN вооружение_NOUN корабль_NOUN мм_INTJ мощность_NOUN',\n",
       " 'topic_44:год_NOUN альбом_NOUN группа_NOUN песня_NOUN песнь_NOUN сингл_NOUN композиция_NOUN запись_NOUN стать_VERB музыкальный_ADJF гитара_NOUN участник_NOUN список_NOUN вокал_NOUN чарт_NOUN',\n",
       " 'topic_45:век_NOUN человек_NOUN время_NOUN народ_NOUN бог_NOUN имя_NOUN день_NOUN религиозный_ADJF некоторый_ADJF существовать_VERB традиция_NOUN современный_ADJF мочь_VERB мир_NOUN слово_NOUN',\n",
       " 'topic_46:игра_NOUN версия_NOUN являться_VERB игрок_NOUN самый_ADJF время_NOUN персонаж_NOUN уровень_NOUN иметь_VERB год_NOUN число_NOUN каждый_ADJF игровой_ADJF стать_VERB множество_NOUN',\n",
       " 'topic_47:образование_NOUN муниципальный_ADJF сельсовет_NOUN республика_NOUN башкортостан_NOUN муниципальный_ADJF+образование_NOUN центр_NOUN район_NOUN год_NOUN статус_NOUN городской_ADJF совет_NOUN башкирский_ADJF километр_NOUN республика_NOUN+башкортостан_NOUN',\n",
       " 'topic_48:год_NOUN россия_NOUN российский_ADJF государственный_ADJF совет_NOUN федерация_NOUN председатель_NOUN член_NOUN российский_ADJF+федерация_NOUN президент_NOUN организация_NOUN депутат_NOUN директор_NOUN комитет_NOUN заместитель_NOUN',\n",
       " 'topic_49:фильм_NOUN роль_NOUN год_NOUN сериал_NOUN эпизод_NOUN режиссёр_NOUN хороший_ADJF сюжет_NOUN главный_ADJF серия_NOUN сезон_NOUN девушка_NOUN актёр_NOUN персонаж_NOUN ссылка_NOUN',\n",
       " 'topic_50:премия_NOUN год_NOUN 2005_NUMR 2006_NUMR 2007_NUMR 2004_NUMR 2009_NUMR 2008_NUMR 2003_NUMR 2002_NUMR хороший_ADJF 2001_NUMR 2000_NUMR 1998_NUMR 1997_NUMR',\n",
       " 'topic_51:деревня_NOUN поселение_NOUN сельский_ADJF состав_NOUN район_NOUN входить_VERB центр_NOUN область_NOUN год_NOUN сельский_ADJF+поселение_NOUN пункт_NOUN населить_PRTF население_NOUN сельсовет_NOUN примечание_NOUN',\n",
       " 'topic_52:год_NOUN партия_NOUN правительство_NOUN политический_ADJF страна_NOUN национальный_ADJF министр_NOUN президент_NOUN движение_NOUN организация_NOUN стать_VERB пост_NOUN война_NOUN израиль_NOUN республика_NOUN',\n",
       " 'topic_53:мочь_VERB случай_NOUN являться_VERB процесс_NOUN клетка_NOUN форма_NOUN лечение_NOUN метод_NOUN развитие_NOUN человек_NOUN заболевание_NOUN тип_NOUN состояние_NOUN функция_NOUN исследование_NOUN',\n",
       " 'topic_54:год_NOUN сша_NOUN штат_NOUN американский_ADJF британский_ADJF стать_VERB джон_NOUN получить_VERB родиться_VERB университет_NOUN нью-йорк_NOUN примечание_NOUN английский_ADJF лондон_NOUN великобритания_NOUN',\n",
       " 'topic_55:год_NOUN орден_NOUN герой_NOUN советский_ADJF война_NOUN отечественный_ADJF союз_NOUN медаль_NOUN великий_ADJF красный_ADJF герой_NOUN+советский_ADJF фронт_NOUN звание_NOUN армия_NOUN 1943_NUMR',\n",
       " 'topic_56:флаг_NOUN символ_NOUN цвета_NOUN хутор_NOUN зелёный_ADJF жёлтый_ADJF белый_ADJF муниципальный_ADJF кислота_NOUN ростовский_ADJF образование_NOUN красный_ADJF полотнище_NOUN соединение_NOUN цвет_NOUN',\n",
       " 'topic_57:самолёт_NOUN полёт_NOUN экипаж_NOUN аэропорт_NOUN корабль_NOUN год_NOUN часы_NOUN лодка_NOUN погибнуть_VERB воздушный_ADJF время_NOUN человек_NOUN минута_NOUN борт_NOUN день_NOUN',\n",
       " 'topic_58:область_NOUN район_NOUN сесть_VERB деревня_NOUN пункт_NOUN населить_PRTF населить_PRTF+пункт_NOUN название_NOUN россия_NOUN посёлок_NOUN сельский_ADJF совет_NOUN сельский_ADJF+совет_NOUN тверская_NOUN сантиметр_NOUN+также_CONJ',\n",
       " 'topic_59:год_NOUN орден_NOUN русский_ADJF степень_NOUN назначить_PRTS святой_ADJF <NUM_UINT>-й_NUMR служба_NOUN императорский_ADJF биография_NOUN чин_NOUN училище_NOUN орден_NOUN+святой_ADJF член_NOUN дело_NOUN']"
      ]
     },
     "execution_count": 587,
     "metadata": {},
     "output_type": "execute_result"
    }
   ],
   "source": [
    "#tops"
   ]
  },
  {
   "cell_type": "code",
   "execution_count": 62,
   "metadata": {
    "scrolled": false
   },
   "outputs": [],
   "source": [
    "# Save topics in a text file, if needed.\n",
    "# with open('example_topics.txt', 'wt', encoding='utf-8') as f:\n",
    "#     [print(i, file=f) for i in a]"
   ]
  },
  {
   "cell_type": "code",
   "execution_count": 92,
   "metadata": {},
   "outputs": [],
   "source": [
    "# phi = model.get_phi()\n",
    "# theta = model.get_theta()     # if needed, set cache_theta=True before running"
   ]
  },
  {
   "cell_type": "markdown",
   "metadata": {},
   "source": [
    "`TODO Next (Next Jupyter Notebook):`\n",
    "1. Function to create several topic models with `[30,40,50,60,70,80,90,100]` topics. Save `Perplexity` & `Sparsity` (Phi, Theta) scores. Add option to add regularizers with custom `tau` value.  `Done`\n",
    "2. Load & Preprocess (`clean+pos+lemma`) Metaphor Corpus. `Done`\n",
    "3. Save `Theta` matrices for Metaphor Corpus, transformed with Topic models. `Done`\n",
    "3. Function to run classifications on `Theta` matrices and save scores (`acc, prec, recall, f1`) for each model.\n",
    "* Check models on each subcorpus, if there's time left (not likely).  `Done`\n",
    "4. Simple Neural Network Classifier (Pytorch or Keras). `Done`\n",
    "5. Beautiful visualizations of the results with matplotlib and seaborn. Confusion Matrices for models. `Done`\n"
   ]
  },
  {
   "cell_type": "markdown",
   "metadata": {},
   "source": [
    "### Batching Metaphor Corpus and Fitting it in the Topic Model"
   ]
  },
  {
   "cell_type": "code",
   "execution_count": 28,
   "metadata": {},
   "outputs": [],
   "source": [
    "# When creating batch_vectorizer for the corpus for the first time\n",
    "# met_batch_vectorizer = artm.BatchVectorizer(data_path='metcorp_vw.txt', data_format='vowpal_wabbit',\n",
    "#                                             target_folder='metcorp_batches')"
   ]
  },
  {
   "cell_type": "code",
   "execution_count": 9,
   "metadata": {},
   "outputs": [],
   "source": [
    "# When you already have batches (runs much faster):\n",
    "met_batch_vectorizer = artm.BatchVectorizer(data_path='metcorp_batches', data_format='batches')"
   ]
  },
  {
   "cell_type": "markdown",
   "metadata": {},
   "source": [
    "Use `transform` to obtain `Theta` matrix from the trained topic model for the new texts. Make sure to check the values - if the model is too sparse, `Theta` matrix for the new docs will consist of zeros.\n",
    "\n",
    "If the model is sparse, most of the values will be zero, and some will be decimals that add up to 1 for each document. Not less, not more, exactly 1.0. \n",
    "\n",
    "If the model is smooth (dense), all the values will be filled with decimals. All values should still add up to 1 for each document. Not less, not more, exactly 1.0. \n",
    "\n",
    "Neither can be considered better, you should experoment, find optimal distribution and preferrably test topic features extrinsically, for example on a classification task."
   ]
  },
  {
   "cell_type": "code",
   "execution_count": 588,
   "metadata": {
    "scrolled": true
   },
   "outputs": [
    {
     "data": {
      "text/html": [
       "<div>\n",
       "<style scoped>\n",
       "    .dataframe tbody tr th:only-of-type {\n",
       "        vertical-align: middle;\n",
       "    }\n",
       "\n",
       "    .dataframe tbody tr th {\n",
       "        vertical-align: top;\n",
       "    }\n",
       "\n",
       "    .dataframe thead th {\n",
       "        text-align: right;\n",
       "    }\n",
       "</style>\n",
       "<table border=\"1\" class=\"dataframe\">\n",
       "  <thead>\n",
       "    <tr style=\"text-align: right;\">\n",
       "      <th></th>\n",
       "      <th>5000</th>\n",
       "      <th>5001</th>\n",
       "      <th>5002</th>\n",
       "      <th>5003</th>\n",
       "      <th>5004</th>\n",
       "      <th>5005</th>\n",
       "      <th>5006</th>\n",
       "      <th>5007</th>\n",
       "      <th>5008</th>\n",
       "      <th>5009</th>\n",
       "      <th>...</th>\n",
       "      <th>3990</th>\n",
       "      <th>3991</th>\n",
       "      <th>3992</th>\n",
       "      <th>3993</th>\n",
       "      <th>3994</th>\n",
       "      <th>3995</th>\n",
       "      <th>3996</th>\n",
       "      <th>3997</th>\n",
       "      <th>3998</th>\n",
       "      <th>3999</th>\n",
       "    </tr>\n",
       "  </thead>\n",
       "  <tbody>\n",
       "    <tr>\n",
       "      <th>topic_0</th>\n",
       "      <td>0.000000</td>\n",
       "      <td>0.000000</td>\n",
       "      <td>0.345320</td>\n",
       "      <td>0.000000</td>\n",
       "      <td>0.000000</td>\n",
       "      <td>0.000000</td>\n",
       "      <td>0.000000</td>\n",
       "      <td>0.000000</td>\n",
       "      <td>0.000000</td>\n",
       "      <td>0.000000</td>\n",
       "      <td>...</td>\n",
       "      <td>0.000000</td>\n",
       "      <td>0.000000</td>\n",
       "      <td>0.000000</td>\n",
       "      <td>0.000000</td>\n",
       "      <td>0.000000</td>\n",
       "      <td>0.000000</td>\n",
       "      <td>0.000000</td>\n",
       "      <td>0.000000</td>\n",
       "      <td>0.000000</td>\n",
       "      <td>0.000000</td>\n",
       "    </tr>\n",
       "    <tr>\n",
       "      <th>topic_1</th>\n",
       "      <td>0.069148</td>\n",
       "      <td>0.000000</td>\n",
       "      <td>0.000000</td>\n",
       "      <td>0.000000</td>\n",
       "      <td>0.000000</td>\n",
       "      <td>0.000000</td>\n",
       "      <td>0.002174</td>\n",
       "      <td>0.000000</td>\n",
       "      <td>0.000000</td>\n",
       "      <td>0.000000</td>\n",
       "      <td>...</td>\n",
       "      <td>0.000000</td>\n",
       "      <td>0.000000</td>\n",
       "      <td>0.000000</td>\n",
       "      <td>0.000000</td>\n",
       "      <td>0.000000</td>\n",
       "      <td>0.000000</td>\n",
       "      <td>0.000000</td>\n",
       "      <td>0.000000</td>\n",
       "      <td>0.000000</td>\n",
       "      <td>0.000000</td>\n",
       "    </tr>\n",
       "    <tr>\n",
       "      <th>topic_2</th>\n",
       "      <td>0.000000</td>\n",
       "      <td>0.000000</td>\n",
       "      <td>0.000000</td>\n",
       "      <td>0.000000</td>\n",
       "      <td>0.000000</td>\n",
       "      <td>0.000000</td>\n",
       "      <td>0.034967</td>\n",
       "      <td>0.000000</td>\n",
       "      <td>0.000000</td>\n",
       "      <td>0.000000</td>\n",
       "      <td>...</td>\n",
       "      <td>0.000000</td>\n",
       "      <td>0.000000</td>\n",
       "      <td>0.000000</td>\n",
       "      <td>0.000000</td>\n",
       "      <td>0.000000</td>\n",
       "      <td>0.000000</td>\n",
       "      <td>0.000000</td>\n",
       "      <td>0.000000</td>\n",
       "      <td>0.000000</td>\n",
       "      <td>0.000000</td>\n",
       "    </tr>\n",
       "    <tr>\n",
       "      <th>topic_3</th>\n",
       "      <td>0.067156</td>\n",
       "      <td>0.000000</td>\n",
       "      <td>0.000000</td>\n",
       "      <td>0.000000</td>\n",
       "      <td>0.000000</td>\n",
       "      <td>0.000000</td>\n",
       "      <td>0.000000</td>\n",
       "      <td>0.000000</td>\n",
       "      <td>0.000000</td>\n",
       "      <td>0.000000</td>\n",
       "      <td>...</td>\n",
       "      <td>0.000000</td>\n",
       "      <td>0.000000</td>\n",
       "      <td>0.000000</td>\n",
       "      <td>0.000000</td>\n",
       "      <td>0.000000</td>\n",
       "      <td>0.000000</td>\n",
       "      <td>0.000000</td>\n",
       "      <td>0.000000</td>\n",
       "      <td>0.000000</td>\n",
       "      <td>0.000000</td>\n",
       "    </tr>\n",
       "    <tr>\n",
       "      <th>topic_4</th>\n",
       "      <td>0.000000</td>\n",
       "      <td>0.000000</td>\n",
       "      <td>0.000000</td>\n",
       "      <td>0.000000</td>\n",
       "      <td>0.000181</td>\n",
       "      <td>0.000000</td>\n",
       "      <td>0.000000</td>\n",
       "      <td>0.000000</td>\n",
       "      <td>0.000000</td>\n",
       "      <td>0.000000</td>\n",
       "      <td>...</td>\n",
       "      <td>0.000000</td>\n",
       "      <td>0.000000</td>\n",
       "      <td>0.000000</td>\n",
       "      <td>0.000000</td>\n",
       "      <td>0.000000</td>\n",
       "      <td>0.000000</td>\n",
       "      <td>0.000000</td>\n",
       "      <td>0.027785</td>\n",
       "      <td>0.000000</td>\n",
       "      <td>0.013078</td>\n",
       "    </tr>\n",
       "    <tr>\n",
       "      <th>topic_5</th>\n",
       "      <td>0.008938</td>\n",
       "      <td>0.000000</td>\n",
       "      <td>0.000000</td>\n",
       "      <td>0.000000</td>\n",
       "      <td>0.000080</td>\n",
       "      <td>0.058213</td>\n",
       "      <td>0.000000</td>\n",
       "      <td>0.000000</td>\n",
       "      <td>0.565957</td>\n",
       "      <td>0.000000</td>\n",
       "      <td>...</td>\n",
       "      <td>0.000000</td>\n",
       "      <td>0.000000</td>\n",
       "      <td>0.000000</td>\n",
       "      <td>0.000000</td>\n",
       "      <td>0.000000</td>\n",
       "      <td>0.162819</td>\n",
       "      <td>0.037157</td>\n",
       "      <td>0.000000</td>\n",
       "      <td>0.000000</td>\n",
       "      <td>0.008072</td>\n",
       "    </tr>\n",
       "    <tr>\n",
       "      <th>topic_6</th>\n",
       "      <td>0.000000</td>\n",
       "      <td>0.000000</td>\n",
       "      <td>0.000000</td>\n",
       "      <td>0.000000</td>\n",
       "      <td>0.000000</td>\n",
       "      <td>0.000000</td>\n",
       "      <td>0.000000</td>\n",
       "      <td>0.000000</td>\n",
       "      <td>0.000000</td>\n",
       "      <td>0.000000</td>\n",
       "      <td>...</td>\n",
       "      <td>0.000000</td>\n",
       "      <td>0.000000</td>\n",
       "      <td>0.000000</td>\n",
       "      <td>0.000000</td>\n",
       "      <td>0.000000</td>\n",
       "      <td>0.000000</td>\n",
       "      <td>0.000000</td>\n",
       "      <td>0.000000</td>\n",
       "      <td>0.000000</td>\n",
       "      <td>0.000000</td>\n",
       "    </tr>\n",
       "    <tr>\n",
       "      <th>topic_7</th>\n",
       "      <td>0.002222</td>\n",
       "      <td>0.011927</td>\n",
       "      <td>0.000000</td>\n",
       "      <td>0.000000</td>\n",
       "      <td>0.132038</td>\n",
       "      <td>0.000000</td>\n",
       "      <td>0.064131</td>\n",
       "      <td>0.000000</td>\n",
       "      <td>0.000000</td>\n",
       "      <td>0.000000</td>\n",
       "      <td>...</td>\n",
       "      <td>0.231649</td>\n",
       "      <td>0.000000</td>\n",
       "      <td>0.000000</td>\n",
       "      <td>0.000000</td>\n",
       "      <td>0.000000</td>\n",
       "      <td>0.010410</td>\n",
       "      <td>0.000000</td>\n",
       "      <td>0.074630</td>\n",
       "      <td>0.000000</td>\n",
       "      <td>0.001807</td>\n",
       "    </tr>\n",
       "    <tr>\n",
       "      <th>topic_8</th>\n",
       "      <td>0.000000</td>\n",
       "      <td>0.000000</td>\n",
       "      <td>0.000000</td>\n",
       "      <td>0.000000</td>\n",
       "      <td>0.000000</td>\n",
       "      <td>0.000000</td>\n",
       "      <td>0.000000</td>\n",
       "      <td>0.000000</td>\n",
       "      <td>0.000000</td>\n",
       "      <td>0.033803</td>\n",
       "      <td>...</td>\n",
       "      <td>0.000000</td>\n",
       "      <td>0.000000</td>\n",
       "      <td>0.000000</td>\n",
       "      <td>0.000000</td>\n",
       "      <td>0.000000</td>\n",
       "      <td>0.000000</td>\n",
       "      <td>0.000000</td>\n",
       "      <td>0.000000</td>\n",
       "      <td>0.000000</td>\n",
       "      <td>0.000000</td>\n",
       "    </tr>\n",
       "    <tr>\n",
       "      <th>topic_9</th>\n",
       "      <td>0.000000</td>\n",
       "      <td>0.000000</td>\n",
       "      <td>0.000000</td>\n",
       "      <td>0.000000</td>\n",
       "      <td>0.000000</td>\n",
       "      <td>0.000000</td>\n",
       "      <td>0.112558</td>\n",
       "      <td>0.000000</td>\n",
       "      <td>0.000000</td>\n",
       "      <td>0.000000</td>\n",
       "      <td>...</td>\n",
       "      <td>0.075607</td>\n",
       "      <td>0.000000</td>\n",
       "      <td>0.000000</td>\n",
       "      <td>0.000000</td>\n",
       "      <td>0.073346</td>\n",
       "      <td>0.000000</td>\n",
       "      <td>0.000000</td>\n",
       "      <td>0.000000</td>\n",
       "      <td>0.000000</td>\n",
       "      <td>0.000000</td>\n",
       "    </tr>\n",
       "    <tr>\n",
       "      <th>topic_10</th>\n",
       "      <td>0.000000</td>\n",
       "      <td>0.000000</td>\n",
       "      <td>0.000000</td>\n",
       "      <td>0.000000</td>\n",
       "      <td>0.000000</td>\n",
       "      <td>0.000000</td>\n",
       "      <td>0.000000</td>\n",
       "      <td>0.000000</td>\n",
       "      <td>0.000000</td>\n",
       "      <td>0.000000</td>\n",
       "      <td>...</td>\n",
       "      <td>0.000000</td>\n",
       "      <td>0.000000</td>\n",
       "      <td>0.000000</td>\n",
       "      <td>0.000000</td>\n",
       "      <td>0.000000</td>\n",
       "      <td>0.002183</td>\n",
       "      <td>0.210338</td>\n",
       "      <td>0.000000</td>\n",
       "      <td>0.000000</td>\n",
       "      <td>0.000000</td>\n",
       "    </tr>\n",
       "    <tr>\n",
       "      <th>topic_11</th>\n",
       "      <td>0.000000</td>\n",
       "      <td>0.000000</td>\n",
       "      <td>0.000000</td>\n",
       "      <td>0.000000</td>\n",
       "      <td>0.000000</td>\n",
       "      <td>0.000000</td>\n",
       "      <td>0.005038</td>\n",
       "      <td>0.000000</td>\n",
       "      <td>0.000000</td>\n",
       "      <td>0.000000</td>\n",
       "      <td>...</td>\n",
       "      <td>0.000000</td>\n",
       "      <td>0.000000</td>\n",
       "      <td>0.000000</td>\n",
       "      <td>0.000000</td>\n",
       "      <td>0.000000</td>\n",
       "      <td>0.000000</td>\n",
       "      <td>0.000000</td>\n",
       "      <td>0.000000</td>\n",
       "      <td>0.000000</td>\n",
       "      <td>0.000000</td>\n",
       "    </tr>\n",
       "    <tr>\n",
       "      <th>topic_12</th>\n",
       "      <td>0.000000</td>\n",
       "      <td>0.000000</td>\n",
       "      <td>0.000000</td>\n",
       "      <td>0.000000</td>\n",
       "      <td>0.000000</td>\n",
       "      <td>0.008571</td>\n",
       "      <td>0.000000</td>\n",
       "      <td>0.021820</td>\n",
       "      <td>0.000000</td>\n",
       "      <td>0.086221</td>\n",
       "      <td>...</td>\n",
       "      <td>0.000000</td>\n",
       "      <td>0.000000</td>\n",
       "      <td>0.000000</td>\n",
       "      <td>0.000000</td>\n",
       "      <td>0.000000</td>\n",
       "      <td>0.000000</td>\n",
       "      <td>0.000000</td>\n",
       "      <td>0.000000</td>\n",
       "      <td>0.000000</td>\n",
       "      <td>0.000000</td>\n",
       "    </tr>\n",
       "    <tr>\n",
       "      <th>topic_13</th>\n",
       "      <td>0.000000</td>\n",
       "      <td>0.005182</td>\n",
       "      <td>0.000000</td>\n",
       "      <td>0.000000</td>\n",
       "      <td>0.000000</td>\n",
       "      <td>0.000000</td>\n",
       "      <td>0.000000</td>\n",
       "      <td>0.000000</td>\n",
       "      <td>0.000000</td>\n",
       "      <td>0.000000</td>\n",
       "      <td>...</td>\n",
       "      <td>0.000000</td>\n",
       "      <td>0.000000</td>\n",
       "      <td>0.000000</td>\n",
       "      <td>0.000000</td>\n",
       "      <td>0.000000</td>\n",
       "      <td>0.000000</td>\n",
       "      <td>0.000000</td>\n",
       "      <td>0.000000</td>\n",
       "      <td>0.000000</td>\n",
       "      <td>0.000000</td>\n",
       "    </tr>\n",
       "    <tr>\n",
       "      <th>topic_14</th>\n",
       "      <td>0.000000</td>\n",
       "      <td>0.000000</td>\n",
       "      <td>0.000000</td>\n",
       "      <td>0.000000</td>\n",
       "      <td>0.000000</td>\n",
       "      <td>0.000000</td>\n",
       "      <td>0.000000</td>\n",
       "      <td>0.000000</td>\n",
       "      <td>0.000000</td>\n",
       "      <td>0.000000</td>\n",
       "      <td>...</td>\n",
       "      <td>0.000000</td>\n",
       "      <td>0.000000</td>\n",
       "      <td>0.000000</td>\n",
       "      <td>0.000000</td>\n",
       "      <td>0.000000</td>\n",
       "      <td>0.000000</td>\n",
       "      <td>0.000000</td>\n",
       "      <td>0.000000</td>\n",
       "      <td>0.000000</td>\n",
       "      <td>0.000000</td>\n",
       "    </tr>\n",
       "    <tr>\n",
       "      <th>topic_15</th>\n",
       "      <td>0.000000</td>\n",
       "      <td>0.000000</td>\n",
       "      <td>0.000000</td>\n",
       "      <td>0.000000</td>\n",
       "      <td>0.000000</td>\n",
       "      <td>0.000000</td>\n",
       "      <td>0.032255</td>\n",
       "      <td>0.000000</td>\n",
       "      <td>0.000000</td>\n",
       "      <td>0.000000</td>\n",
       "      <td>...</td>\n",
       "      <td>0.000000</td>\n",
       "      <td>0.000000</td>\n",
       "      <td>0.000000</td>\n",
       "      <td>0.000000</td>\n",
       "      <td>0.103895</td>\n",
       "      <td>0.000000</td>\n",
       "      <td>0.000000</td>\n",
       "      <td>0.000000</td>\n",
       "      <td>0.000000</td>\n",
       "      <td>0.000000</td>\n",
       "    </tr>\n",
       "    <tr>\n",
       "      <th>topic_16</th>\n",
       "      <td>0.075001</td>\n",
       "      <td>0.336519</td>\n",
       "      <td>0.000000</td>\n",
       "      <td>0.000000</td>\n",
       "      <td>0.000000</td>\n",
       "      <td>0.077287</td>\n",
       "      <td>0.015473</td>\n",
       "      <td>0.000000</td>\n",
       "      <td>0.000000</td>\n",
       "      <td>0.000000</td>\n",
       "      <td>...</td>\n",
       "      <td>0.000000</td>\n",
       "      <td>0.000000</td>\n",
       "      <td>0.000000</td>\n",
       "      <td>0.000000</td>\n",
       "      <td>0.000000</td>\n",
       "      <td>0.000000</td>\n",
       "      <td>0.000000</td>\n",
       "      <td>0.000000</td>\n",
       "      <td>0.000000</td>\n",
       "      <td>0.000000</td>\n",
       "    </tr>\n",
       "    <tr>\n",
       "      <th>topic_17</th>\n",
       "      <td>0.000000</td>\n",
       "      <td>0.000000</td>\n",
       "      <td>0.000000</td>\n",
       "      <td>0.000000</td>\n",
       "      <td>0.100071</td>\n",
       "      <td>0.000000</td>\n",
       "      <td>0.000000</td>\n",
       "      <td>0.000000</td>\n",
       "      <td>0.333333</td>\n",
       "      <td>0.000000</td>\n",
       "      <td>...</td>\n",
       "      <td>0.000000</td>\n",
       "      <td>0.000000</td>\n",
       "      <td>0.000000</td>\n",
       "      <td>0.000000</td>\n",
       "      <td>0.000000</td>\n",
       "      <td>0.000000</td>\n",
       "      <td>0.081415</td>\n",
       "      <td>0.000000</td>\n",
       "      <td>0.000000</td>\n",
       "      <td>0.000000</td>\n",
       "    </tr>\n",
       "    <tr>\n",
       "      <th>topic_18</th>\n",
       "      <td>0.061820</td>\n",
       "      <td>0.000000</td>\n",
       "      <td>0.000000</td>\n",
       "      <td>0.000000</td>\n",
       "      <td>0.000000</td>\n",
       "      <td>0.001345</td>\n",
       "      <td>0.000000</td>\n",
       "      <td>0.000000</td>\n",
       "      <td>0.000000</td>\n",
       "      <td>0.000000</td>\n",
       "      <td>...</td>\n",
       "      <td>0.000000</td>\n",
       "      <td>0.000000</td>\n",
       "      <td>0.000000</td>\n",
       "      <td>0.000000</td>\n",
       "      <td>0.000000</td>\n",
       "      <td>0.000000</td>\n",
       "      <td>0.000000</td>\n",
       "      <td>0.000000</td>\n",
       "      <td>0.000000</td>\n",
       "      <td>0.000000</td>\n",
       "    </tr>\n",
       "    <tr>\n",
       "      <th>topic_19</th>\n",
       "      <td>0.000000</td>\n",
       "      <td>0.001164</td>\n",
       "      <td>0.000000</td>\n",
       "      <td>0.000000</td>\n",
       "      <td>0.018853</td>\n",
       "      <td>0.261159</td>\n",
       "      <td>0.102717</td>\n",
       "      <td>0.914222</td>\n",
       "      <td>0.000000</td>\n",
       "      <td>0.460442</td>\n",
       "      <td>...</td>\n",
       "      <td>0.425472</td>\n",
       "      <td>0.273923</td>\n",
       "      <td>0.353531</td>\n",
       "      <td>0.082588</td>\n",
       "      <td>0.000198</td>\n",
       "      <td>0.023600</td>\n",
       "      <td>0.144935</td>\n",
       "      <td>0.000014</td>\n",
       "      <td>0.576719</td>\n",
       "      <td>0.000000</td>\n",
       "    </tr>\n",
       "    <tr>\n",
       "      <th>topic_20</th>\n",
       "      <td>0.069082</td>\n",
       "      <td>0.000000</td>\n",
       "      <td>0.316626</td>\n",
       "      <td>0.000000</td>\n",
       "      <td>0.000000</td>\n",
       "      <td>0.000000</td>\n",
       "      <td>0.000000</td>\n",
       "      <td>0.000000</td>\n",
       "      <td>0.000000</td>\n",
       "      <td>0.000000</td>\n",
       "      <td>...</td>\n",
       "      <td>0.000000</td>\n",
       "      <td>0.000000</td>\n",
       "      <td>0.088903</td>\n",
       "      <td>0.000000</td>\n",
       "      <td>0.000000</td>\n",
       "      <td>0.002133</td>\n",
       "      <td>0.000000</td>\n",
       "      <td>0.000000</td>\n",
       "      <td>0.000000</td>\n",
       "      <td>0.131426</td>\n",
       "    </tr>\n",
       "    <tr>\n",
       "      <th>topic_21</th>\n",
       "      <td>0.000000</td>\n",
       "      <td>0.000000</td>\n",
       "      <td>0.000000</td>\n",
       "      <td>0.076762</td>\n",
       "      <td>0.000000</td>\n",
       "      <td>0.000000</td>\n",
       "      <td>0.000000</td>\n",
       "      <td>0.000000</td>\n",
       "      <td>0.000000</td>\n",
       "      <td>0.000000</td>\n",
       "      <td>...</td>\n",
       "      <td>0.000000</td>\n",
       "      <td>0.000000</td>\n",
       "      <td>0.000000</td>\n",
       "      <td>0.000000</td>\n",
       "      <td>0.000000</td>\n",
       "      <td>0.000000</td>\n",
       "      <td>0.000000</td>\n",
       "      <td>0.000000</td>\n",
       "      <td>0.000000</td>\n",
       "      <td>0.000000</td>\n",
       "    </tr>\n",
       "    <tr>\n",
       "      <th>topic_22</th>\n",
       "      <td>0.000000</td>\n",
       "      <td>0.038247</td>\n",
       "      <td>0.001456</td>\n",
       "      <td>0.547158</td>\n",
       "      <td>0.168415</td>\n",
       "      <td>0.000175</td>\n",
       "      <td>0.217783</td>\n",
       "      <td>0.000279</td>\n",
       "      <td>0.000000</td>\n",
       "      <td>0.005583</td>\n",
       "      <td>...</td>\n",
       "      <td>0.000000</td>\n",
       "      <td>0.000000</td>\n",
       "      <td>0.375981</td>\n",
       "      <td>0.069865</td>\n",
       "      <td>0.000000</td>\n",
       "      <td>0.338012</td>\n",
       "      <td>0.085580</td>\n",
       "      <td>0.113387</td>\n",
       "      <td>0.139939</td>\n",
       "      <td>0.658495</td>\n",
       "    </tr>\n",
       "    <tr>\n",
       "      <th>topic_23</th>\n",
       "      <td>0.000000</td>\n",
       "      <td>0.135753</td>\n",
       "      <td>0.000000</td>\n",
       "      <td>0.000000</td>\n",
       "      <td>0.000222</td>\n",
       "      <td>0.000000</td>\n",
       "      <td>0.003125</td>\n",
       "      <td>0.000000</td>\n",
       "      <td>0.000000</td>\n",
       "      <td>0.000000</td>\n",
       "      <td>...</td>\n",
       "      <td>0.000000</td>\n",
       "      <td>0.000000</td>\n",
       "      <td>0.000000</td>\n",
       "      <td>0.000000</td>\n",
       "      <td>0.000000</td>\n",
       "      <td>0.000000</td>\n",
       "      <td>0.000000</td>\n",
       "      <td>0.000000</td>\n",
       "      <td>0.000000</td>\n",
       "      <td>0.000000</td>\n",
       "    </tr>\n",
       "    <tr>\n",
       "      <th>topic_24</th>\n",
       "      <td>0.000000</td>\n",
       "      <td>0.000000</td>\n",
       "      <td>0.000000</td>\n",
       "      <td>0.000000</td>\n",
       "      <td>0.000000</td>\n",
       "      <td>0.000000</td>\n",
       "      <td>0.000000</td>\n",
       "      <td>0.000000</td>\n",
       "      <td>0.000000</td>\n",
       "      <td>0.000000</td>\n",
       "      <td>...</td>\n",
       "      <td>0.000000</td>\n",
       "      <td>0.000000</td>\n",
       "      <td>0.088726</td>\n",
       "      <td>0.000000</td>\n",
       "      <td>0.015462</td>\n",
       "      <td>0.000000</td>\n",
       "      <td>0.000000</td>\n",
       "      <td>0.000000</td>\n",
       "      <td>0.000000</td>\n",
       "      <td>0.000000</td>\n",
       "    </tr>\n",
       "    <tr>\n",
       "      <th>topic_25</th>\n",
       "      <td>0.088079</td>\n",
       "      <td>0.000000</td>\n",
       "      <td>0.000000</td>\n",
       "      <td>0.000000</td>\n",
       "      <td>0.000000</td>\n",
       "      <td>0.055413</td>\n",
       "      <td>0.000000</td>\n",
       "      <td>0.000000</td>\n",
       "      <td>0.000000</td>\n",
       "      <td>0.000000</td>\n",
       "      <td>...</td>\n",
       "      <td>0.000000</td>\n",
       "      <td>0.000000</td>\n",
       "      <td>0.000000</td>\n",
       "      <td>0.000000</td>\n",
       "      <td>0.000000</td>\n",
       "      <td>0.000000</td>\n",
       "      <td>0.000000</td>\n",
       "      <td>0.000000</td>\n",
       "      <td>0.000000</td>\n",
       "      <td>0.000000</td>\n",
       "    </tr>\n",
       "    <tr>\n",
       "      <th>topic_26</th>\n",
       "      <td>0.013906</td>\n",
       "      <td>0.000000</td>\n",
       "      <td>0.000000</td>\n",
       "      <td>0.000234</td>\n",
       "      <td>0.123499</td>\n",
       "      <td>0.014027</td>\n",
       "      <td>0.050008</td>\n",
       "      <td>0.063502</td>\n",
       "      <td>0.000000</td>\n",
       "      <td>0.000000</td>\n",
       "      <td>...</td>\n",
       "      <td>0.000000</td>\n",
       "      <td>0.000000</td>\n",
       "      <td>0.000000</td>\n",
       "      <td>0.000000</td>\n",
       "      <td>0.000000</td>\n",
       "      <td>0.000079</td>\n",
       "      <td>0.041617</td>\n",
       "      <td>0.000000</td>\n",
       "      <td>0.236825</td>\n",
       "      <td>0.068222</td>\n",
       "    </tr>\n",
       "    <tr>\n",
       "      <th>topic_27</th>\n",
       "      <td>0.000000</td>\n",
       "      <td>0.000000</td>\n",
       "      <td>0.000000</td>\n",
       "      <td>0.000000</td>\n",
       "      <td>0.000000</td>\n",
       "      <td>0.000000</td>\n",
       "      <td>0.000000</td>\n",
       "      <td>0.000000</td>\n",
       "      <td>0.000000</td>\n",
       "      <td>0.000000</td>\n",
       "      <td>...</td>\n",
       "      <td>0.000000</td>\n",
       "      <td>0.000000</td>\n",
       "      <td>0.000000</td>\n",
       "      <td>0.000000</td>\n",
       "      <td>0.000000</td>\n",
       "      <td>0.009757</td>\n",
       "      <td>0.000000</td>\n",
       "      <td>0.000000</td>\n",
       "      <td>0.000000</td>\n",
       "      <td>0.000000</td>\n",
       "    </tr>\n",
       "    <tr>\n",
       "      <th>topic_28</th>\n",
       "      <td>0.000000</td>\n",
       "      <td>0.000000</td>\n",
       "      <td>0.000000</td>\n",
       "      <td>0.000000</td>\n",
       "      <td>0.000000</td>\n",
       "      <td>0.000000</td>\n",
       "      <td>0.000000</td>\n",
       "      <td>0.000000</td>\n",
       "      <td>0.000000</td>\n",
       "      <td>0.000000</td>\n",
       "      <td>...</td>\n",
       "      <td>0.000000</td>\n",
       "      <td>0.000000</td>\n",
       "      <td>0.000000</td>\n",
       "      <td>0.000000</td>\n",
       "      <td>0.000000</td>\n",
       "      <td>0.000000</td>\n",
       "      <td>0.000000</td>\n",
       "      <td>0.000000</td>\n",
       "      <td>0.000000</td>\n",
       "      <td>0.000000</td>\n",
       "    </tr>\n",
       "    <tr>\n",
       "      <th>topic_29</th>\n",
       "      <td>0.000000</td>\n",
       "      <td>0.000000</td>\n",
       "      <td>0.000000</td>\n",
       "      <td>0.000000</td>\n",
       "      <td>0.000000</td>\n",
       "      <td>0.000000</td>\n",
       "      <td>0.000000</td>\n",
       "      <td>0.000000</td>\n",
       "      <td>0.000000</td>\n",
       "      <td>0.000000</td>\n",
       "      <td>...</td>\n",
       "      <td>0.000000</td>\n",
       "      <td>0.000000</td>\n",
       "      <td>0.000000</td>\n",
       "      <td>0.000000</td>\n",
       "      <td>0.000000</td>\n",
       "      <td>0.000000</td>\n",
       "      <td>0.000000</td>\n",
       "      <td>0.000000</td>\n",
       "      <td>0.000000</td>\n",
       "      <td>0.000000</td>\n",
       "    </tr>\n",
       "    <tr>\n",
       "      <th>topic_30</th>\n",
       "      <td>0.169369</td>\n",
       "      <td>0.000000</td>\n",
       "      <td>0.000000</td>\n",
       "      <td>0.000000</td>\n",
       "      <td>0.000000</td>\n",
       "      <td>0.000000</td>\n",
       "      <td>0.000000</td>\n",
       "      <td>0.000000</td>\n",
       "      <td>0.000000</td>\n",
       "      <td>0.000000</td>\n",
       "      <td>...</td>\n",
       "      <td>0.000000</td>\n",
       "      <td>0.000000</td>\n",
       "      <td>0.000000</td>\n",
       "      <td>0.000000</td>\n",
       "      <td>0.000000</td>\n",
       "      <td>0.000000</td>\n",
       "      <td>0.148238</td>\n",
       "      <td>0.000000</td>\n",
       "      <td>0.000000</td>\n",
       "      <td>0.032506</td>\n",
       "    </tr>\n",
       "    <tr>\n",
       "      <th>topic_31</th>\n",
       "      <td>0.021202</td>\n",
       "      <td>0.000000</td>\n",
       "      <td>0.002178</td>\n",
       "      <td>0.000000</td>\n",
       "      <td>0.000000</td>\n",
       "      <td>0.000000</td>\n",
       "      <td>0.000000</td>\n",
       "      <td>0.000000</td>\n",
       "      <td>0.000000</td>\n",
       "      <td>0.000000</td>\n",
       "      <td>...</td>\n",
       "      <td>0.255867</td>\n",
       "      <td>0.381774</td>\n",
       "      <td>0.001899</td>\n",
       "      <td>0.563648</td>\n",
       "      <td>0.000000</td>\n",
       "      <td>0.000371</td>\n",
       "      <td>0.000000</td>\n",
       "      <td>0.429266</td>\n",
       "      <td>0.000000</td>\n",
       "      <td>0.000000</td>\n",
       "    </tr>\n",
       "    <tr>\n",
       "      <th>topic_32</th>\n",
       "      <td>0.000000</td>\n",
       "      <td>0.000000</td>\n",
       "      <td>0.000000</td>\n",
       "      <td>0.000000</td>\n",
       "      <td>0.000000</td>\n",
       "      <td>0.000000</td>\n",
       "      <td>0.025030</td>\n",
       "      <td>0.000000</td>\n",
       "      <td>0.000000</td>\n",
       "      <td>0.000000</td>\n",
       "      <td>...</td>\n",
       "      <td>0.000000</td>\n",
       "      <td>0.000000</td>\n",
       "      <td>0.000000</td>\n",
       "      <td>0.000000</td>\n",
       "      <td>0.000000</td>\n",
       "      <td>0.000000</td>\n",
       "      <td>0.000000</td>\n",
       "      <td>0.000000</td>\n",
       "      <td>0.000000</td>\n",
       "      <td>0.000000</td>\n",
       "    </tr>\n",
       "    <tr>\n",
       "      <th>topic_33</th>\n",
       "      <td>0.000306</td>\n",
       "      <td>0.000000</td>\n",
       "      <td>0.000000</td>\n",
       "      <td>0.000000</td>\n",
       "      <td>0.000000</td>\n",
       "      <td>0.000000</td>\n",
       "      <td>0.000000</td>\n",
       "      <td>0.000000</td>\n",
       "      <td>0.000000</td>\n",
       "      <td>0.000000</td>\n",
       "      <td>...</td>\n",
       "      <td>0.000000</td>\n",
       "      <td>0.000000</td>\n",
       "      <td>0.000000</td>\n",
       "      <td>0.000000</td>\n",
       "      <td>0.000000</td>\n",
       "      <td>0.000000</td>\n",
       "      <td>0.000000</td>\n",
       "      <td>0.000000</td>\n",
       "      <td>0.000000</td>\n",
       "      <td>0.000000</td>\n",
       "    </tr>\n",
       "    <tr>\n",
       "      <th>topic_34</th>\n",
       "      <td>0.178255</td>\n",
       "      <td>0.050714</td>\n",
       "      <td>0.000000</td>\n",
       "      <td>0.000000</td>\n",
       "      <td>0.000000</td>\n",
       "      <td>0.000000</td>\n",
       "      <td>0.000000</td>\n",
       "      <td>0.000000</td>\n",
       "      <td>0.000000</td>\n",
       "      <td>0.000000</td>\n",
       "      <td>...</td>\n",
       "      <td>0.000000</td>\n",
       "      <td>0.000000</td>\n",
       "      <td>0.000000</td>\n",
       "      <td>0.000000</td>\n",
       "      <td>0.000000</td>\n",
       "      <td>0.000000</td>\n",
       "      <td>0.000000</td>\n",
       "      <td>0.000000</td>\n",
       "      <td>0.000000</td>\n",
       "      <td>0.000000</td>\n",
       "    </tr>\n",
       "    <tr>\n",
       "      <th>topic_35</th>\n",
       "      <td>0.000000</td>\n",
       "      <td>0.000000</td>\n",
       "      <td>0.000000</td>\n",
       "      <td>0.000000</td>\n",
       "      <td>0.000000</td>\n",
       "      <td>0.000000</td>\n",
       "      <td>0.000000</td>\n",
       "      <td>0.000000</td>\n",
       "      <td>0.000000</td>\n",
       "      <td>0.000000</td>\n",
       "      <td>...</td>\n",
       "      <td>0.000000</td>\n",
       "      <td>0.000000</td>\n",
       "      <td>0.000000</td>\n",
       "      <td>0.000000</td>\n",
       "      <td>0.000000</td>\n",
       "      <td>0.000000</td>\n",
       "      <td>0.000000</td>\n",
       "      <td>0.000000</td>\n",
       "      <td>0.000000</td>\n",
       "      <td>0.000000</td>\n",
       "    </tr>\n",
       "    <tr>\n",
       "      <th>topic_36</th>\n",
       "      <td>0.000000</td>\n",
       "      <td>0.000000</td>\n",
       "      <td>0.000000</td>\n",
       "      <td>0.000000</td>\n",
       "      <td>0.000000</td>\n",
       "      <td>0.000000</td>\n",
       "      <td>0.000000</td>\n",
       "      <td>0.000177</td>\n",
       "      <td>0.000000</td>\n",
       "      <td>0.000000</td>\n",
       "      <td>...</td>\n",
       "      <td>0.000000</td>\n",
       "      <td>0.000000</td>\n",
       "      <td>0.000000</td>\n",
       "      <td>0.000000</td>\n",
       "      <td>0.000000</td>\n",
       "      <td>0.000000</td>\n",
       "      <td>0.000000</td>\n",
       "      <td>0.000000</td>\n",
       "      <td>0.000000</td>\n",
       "      <td>0.000000</td>\n",
       "    </tr>\n",
       "    <tr>\n",
       "      <th>topic_37</th>\n",
       "      <td>0.000000</td>\n",
       "      <td>0.000000</td>\n",
       "      <td>0.000000</td>\n",
       "      <td>0.000000</td>\n",
       "      <td>0.000000</td>\n",
       "      <td>0.000000</td>\n",
       "      <td>0.003090</td>\n",
       "      <td>0.000000</td>\n",
       "      <td>0.000000</td>\n",
       "      <td>0.000000</td>\n",
       "      <td>...</td>\n",
       "      <td>0.000000</td>\n",
       "      <td>0.000000</td>\n",
       "      <td>0.000000</td>\n",
       "      <td>0.283899</td>\n",
       "      <td>0.000000</td>\n",
       "      <td>0.000000</td>\n",
       "      <td>0.001120</td>\n",
       "      <td>0.096257</td>\n",
       "      <td>0.000000</td>\n",
       "      <td>0.000000</td>\n",
       "    </tr>\n",
       "    <tr>\n",
       "      <th>topic_38</th>\n",
       "      <td>0.000000</td>\n",
       "      <td>0.000000</td>\n",
       "      <td>0.334420</td>\n",
       "      <td>0.000000</td>\n",
       "      <td>0.000000</td>\n",
       "      <td>0.000000</td>\n",
       "      <td>0.000000</td>\n",
       "      <td>0.000000</td>\n",
       "      <td>0.000000</td>\n",
       "      <td>0.000458</td>\n",
       "      <td>...</td>\n",
       "      <td>0.000000</td>\n",
       "      <td>0.000000</td>\n",
       "      <td>0.003007</td>\n",
       "      <td>0.000000</td>\n",
       "      <td>0.000000</td>\n",
       "      <td>0.000285</td>\n",
       "      <td>0.000043</td>\n",
       "      <td>0.000000</td>\n",
       "      <td>0.000000</td>\n",
       "      <td>0.003272</td>\n",
       "    </tr>\n",
       "    <tr>\n",
       "      <th>topic_39</th>\n",
       "      <td>0.000000</td>\n",
       "      <td>0.000000</td>\n",
       "      <td>0.000000</td>\n",
       "      <td>0.000000</td>\n",
       "      <td>0.000000</td>\n",
       "      <td>0.000000</td>\n",
       "      <td>0.156685</td>\n",
       "      <td>0.000000</td>\n",
       "      <td>0.000000</td>\n",
       "      <td>0.000000</td>\n",
       "      <td>...</td>\n",
       "      <td>0.000358</td>\n",
       "      <td>0.344303</td>\n",
       "      <td>0.000000</td>\n",
       "      <td>0.000000</td>\n",
       "      <td>0.000000</td>\n",
       "      <td>0.276083</td>\n",
       "      <td>0.000000</td>\n",
       "      <td>0.000000</td>\n",
       "      <td>0.025019</td>\n",
       "      <td>0.000000</td>\n",
       "    </tr>\n",
       "    <tr>\n",
       "      <th>topic_40</th>\n",
       "      <td>0.000000</td>\n",
       "      <td>0.000000</td>\n",
       "      <td>0.000000</td>\n",
       "      <td>0.000000</td>\n",
       "      <td>0.000000</td>\n",
       "      <td>0.203852</td>\n",
       "      <td>0.000000</td>\n",
       "      <td>0.000000</td>\n",
       "      <td>0.100710</td>\n",
       "      <td>0.000000</td>\n",
       "      <td>...</td>\n",
       "      <td>0.000000</td>\n",
       "      <td>0.000000</td>\n",
       "      <td>0.000000</td>\n",
       "      <td>0.000000</td>\n",
       "      <td>0.000000</td>\n",
       "      <td>0.000000</td>\n",
       "      <td>0.000000</td>\n",
       "      <td>0.000000</td>\n",
       "      <td>0.000000</td>\n",
       "      <td>0.000000</td>\n",
       "    </tr>\n",
       "    <tr>\n",
       "      <th>topic_41</th>\n",
       "      <td>0.000000</td>\n",
       "      <td>0.000000</td>\n",
       "      <td>0.000000</td>\n",
       "      <td>0.000000</td>\n",
       "      <td>0.000000</td>\n",
       "      <td>0.000000</td>\n",
       "      <td>0.000000</td>\n",
       "      <td>0.000000</td>\n",
       "      <td>0.000000</td>\n",
       "      <td>0.000000</td>\n",
       "      <td>...</td>\n",
       "      <td>0.000000</td>\n",
       "      <td>0.000000</td>\n",
       "      <td>0.000000</td>\n",
       "      <td>0.000000</td>\n",
       "      <td>0.000000</td>\n",
       "      <td>0.000000</td>\n",
       "      <td>0.000000</td>\n",
       "      <td>0.000000</td>\n",
       "      <td>0.000000</td>\n",
       "      <td>0.000000</td>\n",
       "    </tr>\n",
       "    <tr>\n",
       "      <th>topic_42</th>\n",
       "      <td>0.000000</td>\n",
       "      <td>0.000000</td>\n",
       "      <td>0.000000</td>\n",
       "      <td>0.000000</td>\n",
       "      <td>0.000000</td>\n",
       "      <td>0.000000</td>\n",
       "      <td>0.001211</td>\n",
       "      <td>0.000000</td>\n",
       "      <td>0.000000</td>\n",
       "      <td>0.000000</td>\n",
       "      <td>...</td>\n",
       "      <td>0.000000</td>\n",
       "      <td>0.000000</td>\n",
       "      <td>0.000000</td>\n",
       "      <td>0.000000</td>\n",
       "      <td>0.000000</td>\n",
       "      <td>0.000000</td>\n",
       "      <td>0.000000</td>\n",
       "      <td>0.000000</td>\n",
       "      <td>0.000000</td>\n",
       "      <td>0.000000</td>\n",
       "    </tr>\n",
       "    <tr>\n",
       "      <th>topic_43</th>\n",
       "      <td>0.000000</td>\n",
       "      <td>0.000000</td>\n",
       "      <td>0.000000</td>\n",
       "      <td>0.000000</td>\n",
       "      <td>0.000000</td>\n",
       "      <td>0.000000</td>\n",
       "      <td>0.000000</td>\n",
       "      <td>0.000000</td>\n",
       "      <td>0.000000</td>\n",
       "      <td>0.000000</td>\n",
       "      <td>...</td>\n",
       "      <td>0.010894</td>\n",
       "      <td>0.000000</td>\n",
       "      <td>0.000000</td>\n",
       "      <td>0.000000</td>\n",
       "      <td>0.782389</td>\n",
       "      <td>0.000225</td>\n",
       "      <td>0.000000</td>\n",
       "      <td>0.066145</td>\n",
       "      <td>0.021497</td>\n",
       "      <td>0.000000</td>\n",
       "    </tr>\n",
       "    <tr>\n",
       "      <th>topic_44</th>\n",
       "      <td>0.000000</td>\n",
       "      <td>0.000071</td>\n",
       "      <td>0.000000</td>\n",
       "      <td>0.000000</td>\n",
       "      <td>0.087804</td>\n",
       "      <td>0.000000</td>\n",
       "      <td>0.005283</td>\n",
       "      <td>0.000000</td>\n",
       "      <td>0.000000</td>\n",
       "      <td>0.000000</td>\n",
       "      <td>...</td>\n",
       "      <td>0.000000</td>\n",
       "      <td>0.000000</td>\n",
       "      <td>0.000000</td>\n",
       "      <td>0.000000</td>\n",
       "      <td>0.000000</td>\n",
       "      <td>0.000000</td>\n",
       "      <td>0.000000</td>\n",
       "      <td>0.000000</td>\n",
       "      <td>0.000000</td>\n",
       "      <td>0.000000</td>\n",
       "    </tr>\n",
       "    <tr>\n",
       "      <th>topic_45</th>\n",
       "      <td>0.000000</td>\n",
       "      <td>0.000000</td>\n",
       "      <td>0.000000</td>\n",
       "      <td>0.000000</td>\n",
       "      <td>0.000000</td>\n",
       "      <td>0.000000</td>\n",
       "      <td>0.005218</td>\n",
       "      <td>0.000000</td>\n",
       "      <td>0.000000</td>\n",
       "      <td>0.000000</td>\n",
       "      <td>...</td>\n",
       "      <td>0.000000</td>\n",
       "      <td>0.000000</td>\n",
       "      <td>0.000000</td>\n",
       "      <td>0.000000</td>\n",
       "      <td>0.000000</td>\n",
       "      <td>0.125298</td>\n",
       "      <td>0.136470</td>\n",
       "      <td>0.000286</td>\n",
       "      <td>0.000000</td>\n",
       "      <td>0.000000</td>\n",
       "    </tr>\n",
       "    <tr>\n",
       "      <th>topic_46</th>\n",
       "      <td>0.000000</td>\n",
       "      <td>0.110060</td>\n",
       "      <td>0.000000</td>\n",
       "      <td>0.000000</td>\n",
       "      <td>0.000918</td>\n",
       "      <td>0.090520</td>\n",
       "      <td>0.000000</td>\n",
       "      <td>0.000000</td>\n",
       "      <td>0.000000</td>\n",
       "      <td>0.000000</td>\n",
       "      <td>...</td>\n",
       "      <td>0.000000</td>\n",
       "      <td>0.000000</td>\n",
       "      <td>0.001791</td>\n",
       "      <td>0.000000</td>\n",
       "      <td>0.023287</td>\n",
       "      <td>0.019133</td>\n",
       "      <td>0.014261</td>\n",
       "      <td>0.000000</td>\n",
       "      <td>0.000000</td>\n",
       "      <td>0.081995</td>\n",
       "    </tr>\n",
       "    <tr>\n",
       "      <th>topic_47</th>\n",
       "      <td>0.000000</td>\n",
       "      <td>0.000000</td>\n",
       "      <td>0.000000</td>\n",
       "      <td>0.000000</td>\n",
       "      <td>0.000000</td>\n",
       "      <td>0.000000</td>\n",
       "      <td>0.000000</td>\n",
       "      <td>0.000000</td>\n",
       "      <td>0.000000</td>\n",
       "      <td>0.000000</td>\n",
       "      <td>...</td>\n",
       "      <td>0.000000</td>\n",
       "      <td>0.000000</td>\n",
       "      <td>0.000000</td>\n",
       "      <td>0.000000</td>\n",
       "      <td>0.000000</td>\n",
       "      <td>0.000000</td>\n",
       "      <td>0.000000</td>\n",
       "      <td>0.000000</td>\n",
       "      <td>0.000000</td>\n",
       "      <td>0.000000</td>\n",
       "    </tr>\n",
       "    <tr>\n",
       "      <th>topic_48</th>\n",
       "      <td>0.000000</td>\n",
       "      <td>0.000000</td>\n",
       "      <td>0.000000</td>\n",
       "      <td>0.000000</td>\n",
       "      <td>0.000000</td>\n",
       "      <td>0.000000</td>\n",
       "      <td>0.000000</td>\n",
       "      <td>0.000000</td>\n",
       "      <td>0.000000</td>\n",
       "      <td>0.053949</td>\n",
       "      <td>...</td>\n",
       "      <td>0.000153</td>\n",
       "      <td>0.000000</td>\n",
       "      <td>0.000000</td>\n",
       "      <td>0.000000</td>\n",
       "      <td>0.000000</td>\n",
       "      <td>0.000000</td>\n",
       "      <td>0.000000</td>\n",
       "      <td>0.000000</td>\n",
       "      <td>0.000000</td>\n",
       "      <td>0.000000</td>\n",
       "    </tr>\n",
       "    <tr>\n",
       "      <th>topic_49</th>\n",
       "      <td>0.106542</td>\n",
       "      <td>0.000000</td>\n",
       "      <td>0.000000</td>\n",
       "      <td>0.166404</td>\n",
       "      <td>0.000788</td>\n",
       "      <td>0.224010</td>\n",
       "      <td>0.000000</td>\n",
       "      <td>0.000000</td>\n",
       "      <td>0.000000</td>\n",
       "      <td>0.000000</td>\n",
       "      <td>...</td>\n",
       "      <td>0.000000</td>\n",
       "      <td>0.000000</td>\n",
       "      <td>0.000000</td>\n",
       "      <td>0.000000</td>\n",
       "      <td>0.000000</td>\n",
       "      <td>0.000000</td>\n",
       "      <td>0.097806</td>\n",
       "      <td>0.006735</td>\n",
       "      <td>0.000000</td>\n",
       "      <td>0.000000</td>\n",
       "    </tr>\n",
       "    <tr>\n",
       "      <th>topic_50</th>\n",
       "      <td>0.000000</td>\n",
       "      <td>0.000000</td>\n",
       "      <td>0.000000</td>\n",
       "      <td>0.000000</td>\n",
       "      <td>0.000000</td>\n",
       "      <td>0.000000</td>\n",
       "      <td>0.000000</td>\n",
       "      <td>0.000000</td>\n",
       "      <td>0.000000</td>\n",
       "      <td>0.000000</td>\n",
       "      <td>...</td>\n",
       "      <td>0.000000</td>\n",
       "      <td>0.000000</td>\n",
       "      <td>0.000000</td>\n",
       "      <td>0.000000</td>\n",
       "      <td>0.000000</td>\n",
       "      <td>0.000000</td>\n",
       "      <td>0.000000</td>\n",
       "      <td>0.000000</td>\n",
       "      <td>0.000000</td>\n",
       "      <td>0.000000</td>\n",
       "    </tr>\n",
       "    <tr>\n",
       "      <th>topic_51</th>\n",
       "      <td>0.000000</td>\n",
       "      <td>0.000000</td>\n",
       "      <td>0.000000</td>\n",
       "      <td>0.000000</td>\n",
       "      <td>0.000000</td>\n",
       "      <td>0.000000</td>\n",
       "      <td>0.000000</td>\n",
       "      <td>0.000000</td>\n",
       "      <td>0.000000</td>\n",
       "      <td>0.000000</td>\n",
       "      <td>...</td>\n",
       "      <td>0.000000</td>\n",
       "      <td>0.000000</td>\n",
       "      <td>0.000000</td>\n",
       "      <td>0.000000</td>\n",
       "      <td>0.000000</td>\n",
       "      <td>0.000000</td>\n",
       "      <td>0.000000</td>\n",
       "      <td>0.000000</td>\n",
       "      <td>0.000000</td>\n",
       "      <td>0.000000</td>\n",
       "    </tr>\n",
       "    <tr>\n",
       "      <th>topic_52</th>\n",
       "      <td>0.000000</td>\n",
       "      <td>0.000000</td>\n",
       "      <td>0.000000</td>\n",
       "      <td>0.000000</td>\n",
       "      <td>0.000000</td>\n",
       "      <td>0.000000</td>\n",
       "      <td>0.004563</td>\n",
       "      <td>0.000000</td>\n",
       "      <td>0.000000</td>\n",
       "      <td>0.021640</td>\n",
       "      <td>...</td>\n",
       "      <td>0.000000</td>\n",
       "      <td>0.000000</td>\n",
       "      <td>0.000000</td>\n",
       "      <td>0.000000</td>\n",
       "      <td>0.000000</td>\n",
       "      <td>0.000000</td>\n",
       "      <td>0.000000</td>\n",
       "      <td>0.000000</td>\n",
       "      <td>0.000000</td>\n",
       "      <td>0.000000</td>\n",
       "    </tr>\n",
       "    <tr>\n",
       "      <th>topic_53</th>\n",
       "      <td>0.001179</td>\n",
       "      <td>0.310363</td>\n",
       "      <td>0.000000</td>\n",
       "      <td>0.209442</td>\n",
       "      <td>0.274632</td>\n",
       "      <td>0.000000</td>\n",
       "      <td>0.147206</td>\n",
       "      <td>0.000000</td>\n",
       "      <td>0.000000</td>\n",
       "      <td>0.000000</td>\n",
       "      <td>...</td>\n",
       "      <td>0.000000</td>\n",
       "      <td>0.000000</td>\n",
       "      <td>0.000000</td>\n",
       "      <td>0.000000</td>\n",
       "      <td>0.000000</td>\n",
       "      <td>0.027985</td>\n",
       "      <td>0.001019</td>\n",
       "      <td>0.185494</td>\n",
       "      <td>0.000000</td>\n",
       "      <td>0.001055</td>\n",
       "    </tr>\n",
       "    <tr>\n",
       "      <th>topic_54</th>\n",
       "      <td>0.000000</td>\n",
       "      <td>0.000000</td>\n",
       "      <td>0.000000</td>\n",
       "      <td>0.000000</td>\n",
       "      <td>0.000000</td>\n",
       "      <td>0.000814</td>\n",
       "      <td>0.000000</td>\n",
       "      <td>0.000000</td>\n",
       "      <td>0.000000</td>\n",
       "      <td>0.000000</td>\n",
       "      <td>...</td>\n",
       "      <td>0.000000</td>\n",
       "      <td>0.000000</td>\n",
       "      <td>0.000000</td>\n",
       "      <td>0.000000</td>\n",
       "      <td>0.000000</td>\n",
       "      <td>0.000000</td>\n",
       "      <td>0.000000</td>\n",
       "      <td>0.000000</td>\n",
       "      <td>0.000000</td>\n",
       "      <td>0.000000</td>\n",
       "    </tr>\n",
       "    <tr>\n",
       "      <th>topic_55</th>\n",
       "      <td>0.000000</td>\n",
       "      <td>0.000000</td>\n",
       "      <td>0.000000</td>\n",
       "      <td>0.000000</td>\n",
       "      <td>0.000000</td>\n",
       "      <td>0.000000</td>\n",
       "      <td>0.000000</td>\n",
       "      <td>0.000000</td>\n",
       "      <td>0.000000</td>\n",
       "      <td>0.220784</td>\n",
       "      <td>...</td>\n",
       "      <td>0.000000</td>\n",
       "      <td>0.000000</td>\n",
       "      <td>0.000000</td>\n",
       "      <td>0.000000</td>\n",
       "      <td>0.000000</td>\n",
       "      <td>0.000000</td>\n",
       "      <td>0.000000</td>\n",
       "      <td>0.000000</td>\n",
       "      <td>0.000000</td>\n",
       "      <td>0.000000</td>\n",
       "    </tr>\n",
       "    <tr>\n",
       "      <th>topic_56</th>\n",
       "      <td>0.000000</td>\n",
       "      <td>0.000000</td>\n",
       "      <td>0.000000</td>\n",
       "      <td>0.000000</td>\n",
       "      <td>0.000000</td>\n",
       "      <td>0.004614</td>\n",
       "      <td>0.000000</td>\n",
       "      <td>0.000000</td>\n",
       "      <td>0.000000</td>\n",
       "      <td>0.000000</td>\n",
       "      <td>...</td>\n",
       "      <td>0.000000</td>\n",
       "      <td>0.000000</td>\n",
       "      <td>0.000000</td>\n",
       "      <td>0.000000</td>\n",
       "      <td>0.000000</td>\n",
       "      <td>0.000000</td>\n",
       "      <td>0.000000</td>\n",
       "      <td>0.000000</td>\n",
       "      <td>0.000000</td>\n",
       "      <td>0.000000</td>\n",
       "    </tr>\n",
       "    <tr>\n",
       "      <th>topic_57</th>\n",
       "      <td>0.000000</td>\n",
       "      <td>0.000000</td>\n",
       "      <td>0.000000</td>\n",
       "      <td>0.000000</td>\n",
       "      <td>0.092501</td>\n",
       "      <td>0.000000</td>\n",
       "      <td>0.011484</td>\n",
       "      <td>0.000000</td>\n",
       "      <td>0.000000</td>\n",
       "      <td>0.117120</td>\n",
       "      <td>...</td>\n",
       "      <td>0.000000</td>\n",
       "      <td>0.000000</td>\n",
       "      <td>0.086162</td>\n",
       "      <td>0.000000</td>\n",
       "      <td>0.001424</td>\n",
       "      <td>0.001628</td>\n",
       "      <td>0.000000</td>\n",
       "      <td>0.000000</td>\n",
       "      <td>0.000000</td>\n",
       "      <td>0.000000</td>\n",
       "    </tr>\n",
       "    <tr>\n",
       "      <th>topic_58</th>\n",
       "      <td>0.067796</td>\n",
       "      <td>0.000000</td>\n",
       "      <td>0.000000</td>\n",
       "      <td>0.000000</td>\n",
       "      <td>0.000000</td>\n",
       "      <td>0.000000</td>\n",
       "      <td>0.000000</td>\n",
       "      <td>0.000000</td>\n",
       "      <td>0.000000</td>\n",
       "      <td>0.000000</td>\n",
       "      <td>...</td>\n",
       "      <td>0.000000</td>\n",
       "      <td>0.000000</td>\n",
       "      <td>0.000000</td>\n",
       "      <td>0.000000</td>\n",
       "      <td>0.000000</td>\n",
       "      <td>0.000000</td>\n",
       "      <td>0.000000</td>\n",
       "      <td>0.000000</td>\n",
       "      <td>0.000000</td>\n",
       "      <td>0.000000</td>\n",
       "    </tr>\n",
       "    <tr>\n",
       "      <th>topic_59</th>\n",
       "      <td>0.000000</td>\n",
       "      <td>0.000000</td>\n",
       "      <td>0.000000</td>\n",
       "      <td>0.000000</td>\n",
       "      <td>0.000000</td>\n",
       "      <td>0.000000</td>\n",
       "      <td>0.000000</td>\n",
       "      <td>0.000000</td>\n",
       "      <td>0.000000</td>\n",
       "      <td>0.000000</td>\n",
       "      <td>...</td>\n",
       "      <td>0.000000</td>\n",
       "      <td>0.000000</td>\n",
       "      <td>0.000000</td>\n",
       "      <td>0.000000</td>\n",
       "      <td>0.000000</td>\n",
       "      <td>0.000000</td>\n",
       "      <td>0.000000</td>\n",
       "      <td>0.000000</td>\n",
       "      <td>0.000000</td>\n",
       "      <td>0.000073</td>\n",
       "    </tr>\n",
       "  </tbody>\n",
       "</table>\n",
       "<p>60 rows × 7077 columns</p>\n",
       "</div>"
      ],
      "text/plain": [
       "              5000      5001      5002      5003      5004      5005  \\\n",
       "topic_0   0.000000  0.000000  0.345320  0.000000  0.000000  0.000000   \n",
       "topic_1   0.069148  0.000000  0.000000  0.000000  0.000000  0.000000   \n",
       "topic_2   0.000000  0.000000  0.000000  0.000000  0.000000  0.000000   \n",
       "topic_3   0.067156  0.000000  0.000000  0.000000  0.000000  0.000000   \n",
       "topic_4   0.000000  0.000000  0.000000  0.000000  0.000181  0.000000   \n",
       "topic_5   0.008938  0.000000  0.000000  0.000000  0.000080  0.058213   \n",
       "topic_6   0.000000  0.000000  0.000000  0.000000  0.000000  0.000000   \n",
       "topic_7   0.002222  0.011927  0.000000  0.000000  0.132038  0.000000   \n",
       "topic_8   0.000000  0.000000  0.000000  0.000000  0.000000  0.000000   \n",
       "topic_9   0.000000  0.000000  0.000000  0.000000  0.000000  0.000000   \n",
       "topic_10  0.000000  0.000000  0.000000  0.000000  0.000000  0.000000   \n",
       "topic_11  0.000000  0.000000  0.000000  0.000000  0.000000  0.000000   \n",
       "topic_12  0.000000  0.000000  0.000000  0.000000  0.000000  0.008571   \n",
       "topic_13  0.000000  0.005182  0.000000  0.000000  0.000000  0.000000   \n",
       "topic_14  0.000000  0.000000  0.000000  0.000000  0.000000  0.000000   \n",
       "topic_15  0.000000  0.000000  0.000000  0.000000  0.000000  0.000000   \n",
       "topic_16  0.075001  0.336519  0.000000  0.000000  0.000000  0.077287   \n",
       "topic_17  0.000000  0.000000  0.000000  0.000000  0.100071  0.000000   \n",
       "topic_18  0.061820  0.000000  0.000000  0.000000  0.000000  0.001345   \n",
       "topic_19  0.000000  0.001164  0.000000  0.000000  0.018853  0.261159   \n",
       "topic_20  0.069082  0.000000  0.316626  0.000000  0.000000  0.000000   \n",
       "topic_21  0.000000  0.000000  0.000000  0.076762  0.000000  0.000000   \n",
       "topic_22  0.000000  0.038247  0.001456  0.547158  0.168415  0.000175   \n",
       "topic_23  0.000000  0.135753  0.000000  0.000000  0.000222  0.000000   \n",
       "topic_24  0.000000  0.000000  0.000000  0.000000  0.000000  0.000000   \n",
       "topic_25  0.088079  0.000000  0.000000  0.000000  0.000000  0.055413   \n",
       "topic_26  0.013906  0.000000  0.000000  0.000234  0.123499  0.014027   \n",
       "topic_27  0.000000  0.000000  0.000000  0.000000  0.000000  0.000000   \n",
       "topic_28  0.000000  0.000000  0.000000  0.000000  0.000000  0.000000   \n",
       "topic_29  0.000000  0.000000  0.000000  0.000000  0.000000  0.000000   \n",
       "topic_30  0.169369  0.000000  0.000000  0.000000  0.000000  0.000000   \n",
       "topic_31  0.021202  0.000000  0.002178  0.000000  0.000000  0.000000   \n",
       "topic_32  0.000000  0.000000  0.000000  0.000000  0.000000  0.000000   \n",
       "topic_33  0.000306  0.000000  0.000000  0.000000  0.000000  0.000000   \n",
       "topic_34  0.178255  0.050714  0.000000  0.000000  0.000000  0.000000   \n",
       "topic_35  0.000000  0.000000  0.000000  0.000000  0.000000  0.000000   \n",
       "topic_36  0.000000  0.000000  0.000000  0.000000  0.000000  0.000000   \n",
       "topic_37  0.000000  0.000000  0.000000  0.000000  0.000000  0.000000   \n",
       "topic_38  0.000000  0.000000  0.334420  0.000000  0.000000  0.000000   \n",
       "topic_39  0.000000  0.000000  0.000000  0.000000  0.000000  0.000000   \n",
       "topic_40  0.000000  0.000000  0.000000  0.000000  0.000000  0.203852   \n",
       "topic_41  0.000000  0.000000  0.000000  0.000000  0.000000  0.000000   \n",
       "topic_42  0.000000  0.000000  0.000000  0.000000  0.000000  0.000000   \n",
       "topic_43  0.000000  0.000000  0.000000  0.000000  0.000000  0.000000   \n",
       "topic_44  0.000000  0.000071  0.000000  0.000000  0.087804  0.000000   \n",
       "topic_45  0.000000  0.000000  0.000000  0.000000  0.000000  0.000000   \n",
       "topic_46  0.000000  0.110060  0.000000  0.000000  0.000918  0.090520   \n",
       "topic_47  0.000000  0.000000  0.000000  0.000000  0.000000  0.000000   \n",
       "topic_48  0.000000  0.000000  0.000000  0.000000  0.000000  0.000000   \n",
       "topic_49  0.106542  0.000000  0.000000  0.166404  0.000788  0.224010   \n",
       "topic_50  0.000000  0.000000  0.000000  0.000000  0.000000  0.000000   \n",
       "topic_51  0.000000  0.000000  0.000000  0.000000  0.000000  0.000000   \n",
       "topic_52  0.000000  0.000000  0.000000  0.000000  0.000000  0.000000   \n",
       "topic_53  0.001179  0.310363  0.000000  0.209442  0.274632  0.000000   \n",
       "topic_54  0.000000  0.000000  0.000000  0.000000  0.000000  0.000814   \n",
       "topic_55  0.000000  0.000000  0.000000  0.000000  0.000000  0.000000   \n",
       "topic_56  0.000000  0.000000  0.000000  0.000000  0.000000  0.004614   \n",
       "topic_57  0.000000  0.000000  0.000000  0.000000  0.092501  0.000000   \n",
       "topic_58  0.067796  0.000000  0.000000  0.000000  0.000000  0.000000   \n",
       "topic_59  0.000000  0.000000  0.000000  0.000000  0.000000  0.000000   \n",
       "\n",
       "              5006      5007      5008      5009  ...      3990      3991  \\\n",
       "topic_0   0.000000  0.000000  0.000000  0.000000  ...  0.000000  0.000000   \n",
       "topic_1   0.002174  0.000000  0.000000  0.000000  ...  0.000000  0.000000   \n",
       "topic_2   0.034967  0.000000  0.000000  0.000000  ...  0.000000  0.000000   \n",
       "topic_3   0.000000  0.000000  0.000000  0.000000  ...  0.000000  0.000000   \n",
       "topic_4   0.000000  0.000000  0.000000  0.000000  ...  0.000000  0.000000   \n",
       "topic_5   0.000000  0.000000  0.565957  0.000000  ...  0.000000  0.000000   \n",
       "topic_6   0.000000  0.000000  0.000000  0.000000  ...  0.000000  0.000000   \n",
       "topic_7   0.064131  0.000000  0.000000  0.000000  ...  0.231649  0.000000   \n",
       "topic_8   0.000000  0.000000  0.000000  0.033803  ...  0.000000  0.000000   \n",
       "topic_9   0.112558  0.000000  0.000000  0.000000  ...  0.075607  0.000000   \n",
       "topic_10  0.000000  0.000000  0.000000  0.000000  ...  0.000000  0.000000   \n",
       "topic_11  0.005038  0.000000  0.000000  0.000000  ...  0.000000  0.000000   \n",
       "topic_12  0.000000  0.021820  0.000000  0.086221  ...  0.000000  0.000000   \n",
       "topic_13  0.000000  0.000000  0.000000  0.000000  ...  0.000000  0.000000   \n",
       "topic_14  0.000000  0.000000  0.000000  0.000000  ...  0.000000  0.000000   \n",
       "topic_15  0.032255  0.000000  0.000000  0.000000  ...  0.000000  0.000000   \n",
       "topic_16  0.015473  0.000000  0.000000  0.000000  ...  0.000000  0.000000   \n",
       "topic_17  0.000000  0.000000  0.333333  0.000000  ...  0.000000  0.000000   \n",
       "topic_18  0.000000  0.000000  0.000000  0.000000  ...  0.000000  0.000000   \n",
       "topic_19  0.102717  0.914222  0.000000  0.460442  ...  0.425472  0.273923   \n",
       "topic_20  0.000000  0.000000  0.000000  0.000000  ...  0.000000  0.000000   \n",
       "topic_21  0.000000  0.000000  0.000000  0.000000  ...  0.000000  0.000000   \n",
       "topic_22  0.217783  0.000279  0.000000  0.005583  ...  0.000000  0.000000   \n",
       "topic_23  0.003125  0.000000  0.000000  0.000000  ...  0.000000  0.000000   \n",
       "topic_24  0.000000  0.000000  0.000000  0.000000  ...  0.000000  0.000000   \n",
       "topic_25  0.000000  0.000000  0.000000  0.000000  ...  0.000000  0.000000   \n",
       "topic_26  0.050008  0.063502  0.000000  0.000000  ...  0.000000  0.000000   \n",
       "topic_27  0.000000  0.000000  0.000000  0.000000  ...  0.000000  0.000000   \n",
       "topic_28  0.000000  0.000000  0.000000  0.000000  ...  0.000000  0.000000   \n",
       "topic_29  0.000000  0.000000  0.000000  0.000000  ...  0.000000  0.000000   \n",
       "topic_30  0.000000  0.000000  0.000000  0.000000  ...  0.000000  0.000000   \n",
       "topic_31  0.000000  0.000000  0.000000  0.000000  ...  0.255867  0.381774   \n",
       "topic_32  0.025030  0.000000  0.000000  0.000000  ...  0.000000  0.000000   \n",
       "topic_33  0.000000  0.000000  0.000000  0.000000  ...  0.000000  0.000000   \n",
       "topic_34  0.000000  0.000000  0.000000  0.000000  ...  0.000000  0.000000   \n",
       "topic_35  0.000000  0.000000  0.000000  0.000000  ...  0.000000  0.000000   \n",
       "topic_36  0.000000  0.000177  0.000000  0.000000  ...  0.000000  0.000000   \n",
       "topic_37  0.003090  0.000000  0.000000  0.000000  ...  0.000000  0.000000   \n",
       "topic_38  0.000000  0.000000  0.000000  0.000458  ...  0.000000  0.000000   \n",
       "topic_39  0.156685  0.000000  0.000000  0.000000  ...  0.000358  0.344303   \n",
       "topic_40  0.000000  0.000000  0.100710  0.000000  ...  0.000000  0.000000   \n",
       "topic_41  0.000000  0.000000  0.000000  0.000000  ...  0.000000  0.000000   \n",
       "topic_42  0.001211  0.000000  0.000000  0.000000  ...  0.000000  0.000000   \n",
       "topic_43  0.000000  0.000000  0.000000  0.000000  ...  0.010894  0.000000   \n",
       "topic_44  0.005283  0.000000  0.000000  0.000000  ...  0.000000  0.000000   \n",
       "topic_45  0.005218  0.000000  0.000000  0.000000  ...  0.000000  0.000000   \n",
       "topic_46  0.000000  0.000000  0.000000  0.000000  ...  0.000000  0.000000   \n",
       "topic_47  0.000000  0.000000  0.000000  0.000000  ...  0.000000  0.000000   \n",
       "topic_48  0.000000  0.000000  0.000000  0.053949  ...  0.000153  0.000000   \n",
       "topic_49  0.000000  0.000000  0.000000  0.000000  ...  0.000000  0.000000   \n",
       "topic_50  0.000000  0.000000  0.000000  0.000000  ...  0.000000  0.000000   \n",
       "topic_51  0.000000  0.000000  0.000000  0.000000  ...  0.000000  0.000000   \n",
       "topic_52  0.004563  0.000000  0.000000  0.021640  ...  0.000000  0.000000   \n",
       "topic_53  0.147206  0.000000  0.000000  0.000000  ...  0.000000  0.000000   \n",
       "topic_54  0.000000  0.000000  0.000000  0.000000  ...  0.000000  0.000000   \n",
       "topic_55  0.000000  0.000000  0.000000  0.220784  ...  0.000000  0.000000   \n",
       "topic_56  0.000000  0.000000  0.000000  0.000000  ...  0.000000  0.000000   \n",
       "topic_57  0.011484  0.000000  0.000000  0.117120  ...  0.000000  0.000000   \n",
       "topic_58  0.000000  0.000000  0.000000  0.000000  ...  0.000000  0.000000   \n",
       "topic_59  0.000000  0.000000  0.000000  0.000000  ...  0.000000  0.000000   \n",
       "\n",
       "              3992      3993      3994      3995      3996      3997  \\\n",
       "topic_0   0.000000  0.000000  0.000000  0.000000  0.000000  0.000000   \n",
       "topic_1   0.000000  0.000000  0.000000  0.000000  0.000000  0.000000   \n",
       "topic_2   0.000000  0.000000  0.000000  0.000000  0.000000  0.000000   \n",
       "topic_3   0.000000  0.000000  0.000000  0.000000  0.000000  0.000000   \n",
       "topic_4   0.000000  0.000000  0.000000  0.000000  0.000000  0.027785   \n",
       "topic_5   0.000000  0.000000  0.000000  0.162819  0.037157  0.000000   \n",
       "topic_6   0.000000  0.000000  0.000000  0.000000  0.000000  0.000000   \n",
       "topic_7   0.000000  0.000000  0.000000  0.010410  0.000000  0.074630   \n",
       "topic_8   0.000000  0.000000  0.000000  0.000000  0.000000  0.000000   \n",
       "topic_9   0.000000  0.000000  0.073346  0.000000  0.000000  0.000000   \n",
       "topic_10  0.000000  0.000000  0.000000  0.002183  0.210338  0.000000   \n",
       "topic_11  0.000000  0.000000  0.000000  0.000000  0.000000  0.000000   \n",
       "topic_12  0.000000  0.000000  0.000000  0.000000  0.000000  0.000000   \n",
       "topic_13  0.000000  0.000000  0.000000  0.000000  0.000000  0.000000   \n",
       "topic_14  0.000000  0.000000  0.000000  0.000000  0.000000  0.000000   \n",
       "topic_15  0.000000  0.000000  0.103895  0.000000  0.000000  0.000000   \n",
       "topic_16  0.000000  0.000000  0.000000  0.000000  0.000000  0.000000   \n",
       "topic_17  0.000000  0.000000  0.000000  0.000000  0.081415  0.000000   \n",
       "topic_18  0.000000  0.000000  0.000000  0.000000  0.000000  0.000000   \n",
       "topic_19  0.353531  0.082588  0.000198  0.023600  0.144935  0.000014   \n",
       "topic_20  0.088903  0.000000  0.000000  0.002133  0.000000  0.000000   \n",
       "topic_21  0.000000  0.000000  0.000000  0.000000  0.000000  0.000000   \n",
       "topic_22  0.375981  0.069865  0.000000  0.338012  0.085580  0.113387   \n",
       "topic_23  0.000000  0.000000  0.000000  0.000000  0.000000  0.000000   \n",
       "topic_24  0.088726  0.000000  0.015462  0.000000  0.000000  0.000000   \n",
       "topic_25  0.000000  0.000000  0.000000  0.000000  0.000000  0.000000   \n",
       "topic_26  0.000000  0.000000  0.000000  0.000079  0.041617  0.000000   \n",
       "topic_27  0.000000  0.000000  0.000000  0.009757  0.000000  0.000000   \n",
       "topic_28  0.000000  0.000000  0.000000  0.000000  0.000000  0.000000   \n",
       "topic_29  0.000000  0.000000  0.000000  0.000000  0.000000  0.000000   \n",
       "topic_30  0.000000  0.000000  0.000000  0.000000  0.148238  0.000000   \n",
       "topic_31  0.001899  0.563648  0.000000  0.000371  0.000000  0.429266   \n",
       "topic_32  0.000000  0.000000  0.000000  0.000000  0.000000  0.000000   \n",
       "topic_33  0.000000  0.000000  0.000000  0.000000  0.000000  0.000000   \n",
       "topic_34  0.000000  0.000000  0.000000  0.000000  0.000000  0.000000   \n",
       "topic_35  0.000000  0.000000  0.000000  0.000000  0.000000  0.000000   \n",
       "topic_36  0.000000  0.000000  0.000000  0.000000  0.000000  0.000000   \n",
       "topic_37  0.000000  0.283899  0.000000  0.000000  0.001120  0.096257   \n",
       "topic_38  0.003007  0.000000  0.000000  0.000285  0.000043  0.000000   \n",
       "topic_39  0.000000  0.000000  0.000000  0.276083  0.000000  0.000000   \n",
       "topic_40  0.000000  0.000000  0.000000  0.000000  0.000000  0.000000   \n",
       "topic_41  0.000000  0.000000  0.000000  0.000000  0.000000  0.000000   \n",
       "topic_42  0.000000  0.000000  0.000000  0.000000  0.000000  0.000000   \n",
       "topic_43  0.000000  0.000000  0.782389  0.000225  0.000000  0.066145   \n",
       "topic_44  0.000000  0.000000  0.000000  0.000000  0.000000  0.000000   \n",
       "topic_45  0.000000  0.000000  0.000000  0.125298  0.136470  0.000286   \n",
       "topic_46  0.001791  0.000000  0.023287  0.019133  0.014261  0.000000   \n",
       "topic_47  0.000000  0.000000  0.000000  0.000000  0.000000  0.000000   \n",
       "topic_48  0.000000  0.000000  0.000000  0.000000  0.000000  0.000000   \n",
       "topic_49  0.000000  0.000000  0.000000  0.000000  0.097806  0.006735   \n",
       "topic_50  0.000000  0.000000  0.000000  0.000000  0.000000  0.000000   \n",
       "topic_51  0.000000  0.000000  0.000000  0.000000  0.000000  0.000000   \n",
       "topic_52  0.000000  0.000000  0.000000  0.000000  0.000000  0.000000   \n",
       "topic_53  0.000000  0.000000  0.000000  0.027985  0.001019  0.185494   \n",
       "topic_54  0.000000  0.000000  0.000000  0.000000  0.000000  0.000000   \n",
       "topic_55  0.000000  0.000000  0.000000  0.000000  0.000000  0.000000   \n",
       "topic_56  0.000000  0.000000  0.000000  0.000000  0.000000  0.000000   \n",
       "topic_57  0.086162  0.000000  0.001424  0.001628  0.000000  0.000000   \n",
       "topic_58  0.000000  0.000000  0.000000  0.000000  0.000000  0.000000   \n",
       "topic_59  0.000000  0.000000  0.000000  0.000000  0.000000  0.000000   \n",
       "\n",
       "              3998      3999  \n",
       "topic_0   0.000000  0.000000  \n",
       "topic_1   0.000000  0.000000  \n",
       "topic_2   0.000000  0.000000  \n",
       "topic_3   0.000000  0.000000  \n",
       "topic_4   0.000000  0.013078  \n",
       "topic_5   0.000000  0.008072  \n",
       "topic_6   0.000000  0.000000  \n",
       "topic_7   0.000000  0.001807  \n",
       "topic_8   0.000000  0.000000  \n",
       "topic_9   0.000000  0.000000  \n",
       "topic_10  0.000000  0.000000  \n",
       "topic_11  0.000000  0.000000  \n",
       "topic_12  0.000000  0.000000  \n",
       "topic_13  0.000000  0.000000  \n",
       "topic_14  0.000000  0.000000  \n",
       "topic_15  0.000000  0.000000  \n",
       "topic_16  0.000000  0.000000  \n",
       "topic_17  0.000000  0.000000  \n",
       "topic_18  0.000000  0.000000  \n",
       "topic_19  0.576719  0.000000  \n",
       "topic_20  0.000000  0.131426  \n",
       "topic_21  0.000000  0.000000  \n",
       "topic_22  0.139939  0.658495  \n",
       "topic_23  0.000000  0.000000  \n",
       "topic_24  0.000000  0.000000  \n",
       "topic_25  0.000000  0.000000  \n",
       "topic_26  0.236825  0.068222  \n",
       "topic_27  0.000000  0.000000  \n",
       "topic_28  0.000000  0.000000  \n",
       "topic_29  0.000000  0.000000  \n",
       "topic_30  0.000000  0.032506  \n",
       "topic_31  0.000000  0.000000  \n",
       "topic_32  0.000000  0.000000  \n",
       "topic_33  0.000000  0.000000  \n",
       "topic_34  0.000000  0.000000  \n",
       "topic_35  0.000000  0.000000  \n",
       "topic_36  0.000000  0.000000  \n",
       "topic_37  0.000000  0.000000  \n",
       "topic_38  0.000000  0.003272  \n",
       "topic_39  0.025019  0.000000  \n",
       "topic_40  0.000000  0.000000  \n",
       "topic_41  0.000000  0.000000  \n",
       "topic_42  0.000000  0.000000  \n",
       "topic_43  0.021497  0.000000  \n",
       "topic_44  0.000000  0.000000  \n",
       "topic_45  0.000000  0.000000  \n",
       "topic_46  0.000000  0.081995  \n",
       "topic_47  0.000000  0.000000  \n",
       "topic_48  0.000000  0.000000  \n",
       "topic_49  0.000000  0.000000  \n",
       "topic_50  0.000000  0.000000  \n",
       "topic_51  0.000000  0.000000  \n",
       "topic_52  0.000000  0.000000  \n",
       "topic_53  0.000000  0.001055  \n",
       "topic_54  0.000000  0.000000  \n",
       "topic_55  0.000000  0.000000  \n",
       "topic_56  0.000000  0.000000  \n",
       "topic_57  0.000000  0.000000  \n",
       "topic_58  0.000000  0.000000  \n",
       "topic_59  0.000000  0.000073  \n",
       "\n",
       "[60 rows x 7077 columns]"
      ]
     },
     "execution_count": 588,
     "metadata": {},
     "output_type": "execute_result"
    }
   ],
   "source": [
    "theta_test = model.transform(met_batch_vectorizer)\n",
    "theta_test"
   ]
  },
  {
   "cell_type": "markdown",
   "metadata": {},
   "source": [
    "Check that all values add up to 1.0. If the model is too sparse, the values will be 0.0."
   ]
  },
  {
   "cell_type": "code",
   "execution_count": 544,
   "metadata": {},
   "outputs": [
    {
     "data": {
      "text/plain": [
       "5000    1.0\n",
       "5001    1.0\n",
       "5002    1.0\n",
       "5003    1.0\n",
       "5004    1.0\n",
       "       ... \n",
       "3995    1.0\n",
       "3996    1.0\n",
       "3997    1.0\n",
       "3998    1.0\n",
       "3999    1.0\n",
       "Length: 7077, dtype: float32"
      ]
     },
     "execution_count": 544,
     "metadata": {},
     "output_type": "execute_result"
    }
   ],
   "source": [
    "import numpy as np\n",
    "np.sum(theta_test)"
   ]
  },
  {
   "cell_type": "markdown",
   "metadata": {},
   "source": [
    "Save theta as csv to further pass it to the classifier as features.\n",
    "\n",
    "Here, we also add lemmas and target class info in the dataframe."
   ]
  },
  {
   "cell_type": "code",
   "execution_count": 576,
   "metadata": {
    "scrolled": false
   },
   "outputs": [
    {
     "data": {
      "text/html": [
       "<div>\n",
       "<style scoped>\n",
       "    .dataframe tbody tr th:only-of-type {\n",
       "        vertical-align: middle;\n",
       "    }\n",
       "\n",
       "    .dataframe tbody tr th {\n",
       "        vertical-align: top;\n",
       "    }\n",
       "\n",
       "    .dataframe thead th {\n",
       "        text-align: right;\n",
       "    }\n",
       "</style>\n",
       "<table border=\"1\" class=\"dataframe\">\n",
       "  <thead>\n",
       "    <tr style=\"text-align: right;\">\n",
       "      <th></th>\n",
       "      <th>sents</th>\n",
       "      <th>targets</th>\n",
       "      <th>topic_0</th>\n",
       "      <th>topic_1</th>\n",
       "      <th>topic_2</th>\n",
       "      <th>topic_3</th>\n",
       "      <th>topic_4</th>\n",
       "      <th>topic_5</th>\n",
       "      <th>topic_6</th>\n",
       "      <th>topic_7</th>\n",
       "      <th>...</th>\n",
       "      <th>topic_50</th>\n",
       "      <th>topic_51</th>\n",
       "      <th>topic_52</th>\n",
       "      <th>topic_53</th>\n",
       "      <th>topic_54</th>\n",
       "      <th>topic_55</th>\n",
       "      <th>topic_56</th>\n",
       "      <th>topic_57</th>\n",
       "      <th>topic_58</th>\n",
       "      <th>topic_59</th>\n",
       "    </tr>\n",
       "  </thead>\n",
       "  <tbody>\n",
       "    <tr>\n",
       "      <th>0</th>\n",
       "      <td>нужно_PRED весь_ADJF время_NOUN бомбардировать...</td>\n",
       "      <td>1</td>\n",
       "      <td>0.0</td>\n",
       "      <td>0.0</td>\n",
       "      <td>0.0</td>\n",
       "      <td>0.0</td>\n",
       "      <td>0.0</td>\n",
       "      <td>0.0</td>\n",
       "      <td>0.0</td>\n",
       "      <td>0.0</td>\n",
       "      <td>...</td>\n",
       "      <td>0.000000</td>\n",
       "      <td>0.000000</td>\n",
       "      <td>0.000000</td>\n",
       "      <td>0.000000</td>\n",
       "      <td>0.000000</td>\n",
       "      <td>0.0</td>\n",
       "      <td>0.0</td>\n",
       "      <td>0.000000</td>\n",
       "      <td>0.0</td>\n",
       "      <td>0.0</td>\n",
       "    </tr>\n",
       "    <tr>\n",
       "      <th>1</th>\n",
       "      <td>добрынин_NOUN говорить_VERB шевченко_NOUN цент...</td>\n",
       "      <td>1</td>\n",
       "      <td>0.0</td>\n",
       "      <td>0.0</td>\n",
       "      <td>0.0</td>\n",
       "      <td>0.0</td>\n",
       "      <td>0.0</td>\n",
       "      <td>0.0</td>\n",
       "      <td>0.0</td>\n",
       "      <td>0.0</td>\n",
       "      <td>...</td>\n",
       "      <td>0.093341</td>\n",
       "      <td>0.060538</td>\n",
       "      <td>0.000000</td>\n",
       "      <td>0.000000</td>\n",
       "      <td>0.402347</td>\n",
       "      <td>0.0</td>\n",
       "      <td>0.0</td>\n",
       "      <td>0.002572</td>\n",
       "      <td>0.0</td>\n",
       "      <td>0.0</td>\n",
       "    </tr>\n",
       "    <tr>\n",
       "      <th>2</th>\n",
       "      <td>принять_INFN внимание_NOUN настойчиво_ADVB гру...</td>\n",
       "      <td>1</td>\n",
       "      <td>0.0</td>\n",
       "      <td>0.0</td>\n",
       "      <td>0.0</td>\n",
       "      <td>0.0</td>\n",
       "      <td>0.0</td>\n",
       "      <td>0.0</td>\n",
       "      <td>0.0</td>\n",
       "      <td>0.0</td>\n",
       "      <td>...</td>\n",
       "      <td>0.000000</td>\n",
       "      <td>0.000000</td>\n",
       "      <td>0.096032</td>\n",
       "      <td>0.142632</td>\n",
       "      <td>0.011187</td>\n",
       "      <td>0.0</td>\n",
       "      <td>0.0</td>\n",
       "      <td>0.000000</td>\n",
       "      <td>0.0</td>\n",
       "      <td>0.0</td>\n",
       "    </tr>\n",
       "  </tbody>\n",
       "</table>\n",
       "<p>3 rows × 62 columns</p>\n",
       "</div>"
      ],
      "text/plain": [
       "                                               sents  targets  topic_0  \\\n",
       "0  нужно_PRED весь_ADJF время_NOUN бомбардировать...        1      0.0   \n",
       "1  добрынин_NOUN говорить_VERB шевченко_NOUN цент...        1      0.0   \n",
       "2  принять_INFN внимание_NOUN настойчиво_ADVB гру...        1      0.0   \n",
       "\n",
       "   topic_1  topic_2  topic_3  topic_4  topic_5  topic_6  topic_7  ...  \\\n",
       "0      0.0      0.0      0.0      0.0      0.0      0.0      0.0  ...   \n",
       "1      0.0      0.0      0.0      0.0      0.0      0.0      0.0  ...   \n",
       "2      0.0      0.0      0.0      0.0      0.0      0.0      0.0  ...   \n",
       "\n",
       "   topic_50  topic_51  topic_52  topic_53  topic_54  topic_55  topic_56  \\\n",
       "0  0.000000  0.000000  0.000000  0.000000  0.000000       0.0       0.0   \n",
       "1  0.093341  0.060538  0.000000  0.000000  0.402347       0.0       0.0   \n",
       "2  0.000000  0.000000  0.096032  0.142632  0.011187       0.0       0.0   \n",
       "\n",
       "   topic_57  topic_58  topic_59  \n",
       "0  0.000000       0.0       0.0  \n",
       "1  0.002572       0.0       0.0  \n",
       "2  0.000000       0.0       0.0  \n",
       "\n",
       "[3 rows x 62 columns]"
      ]
     },
     "execution_count": 576,
     "metadata": {},
     "output_type": "execute_result"
    }
   ],
   "source": [
    "df = pd.DataFrame()\n",
    "df['sents'] = processed_sents\n",
    "df['targets'] = processed_targets\n",
    "df = df.join(theta_test.T)\n",
    "df.head(3)"
   ]
  },
  {
   "cell_type": "code",
   "execution_count": 577,
   "metadata": {},
   "outputs": [],
   "source": [
    "df.to_csv('metcorp_tm.csv')"
   ]
  },
  {
   "cell_type": "markdown",
   "metadata": {},
   "source": [
    "## Bulk Building  & Scoring Topic Models + Transforming Metcorp & Saving Theta tables for Future Classification\n"
   ]
  },
  {
   "cell_type": "code",
   "execution_count": 10,
   "metadata": {},
   "outputs": [],
   "source": [
    "import json"
   ]
  },
  {
   "cell_type": "code",
   "execution_count": 11,
   "metadata": {},
   "outputs": [],
   "source": [
    "def build_tms(topic_nums, batch_vectorizer, dictionary, num_collection_passes,\n",
    "              regularizers, met_batch_vectorizer, source_df, add_to_name='', save_models=False):\n",
    "    '''\n",
    "    Trains and scores multiple topic models with given target topic nums.\n",
    "    Args:\n",
    "      topic nums:            list of integers, e.g. [20,30,40], with number of topics for each model\n",
    "      batch_vectorizer:      BigARTM BatchVectorizer class object for wiki texts\n",
    "      dictionary:            BigARTM Dictionary class object\n",
    "      num_collection_passes: parameter for .fit_offline() method. Number of passes through the corpus\n",
    "      regularizers:          regularizers with custom `tau` parameter to add to the model\n",
    "      met_batch_vectorizer:  BigARTM BatchVectorizer class object for metaphor corpus\n",
    "      source_df:             Dataframe with original sentences and labels\n",
    "      add_to_name:           str, will be added to saved theta dataframe filenames and report names\n",
    "                             as an additional identifier. Leave as is, if unnecessary.\n",
    "      save_models:           if True, each model will be saved to disk as\n",
    "                             `'artm_p_wt_'+add_to_name+str(num_t)` and `'artm_n_wt_'+add_to_name+str(num_t)`.\n",
    "                             To save memory, leave `save_models=False`\n",
    "    '''\n",
    "    clear_stdin()   # defined above, fixes tqdm library newline glitches\n",
    "    \n",
    "    tm_results = {}\n",
    "    top_words = []\n",
    "\n",
    "    for topic_n in tqdm(topic_nums):\n",
    "        tm_scores = {'PerplexityScore': None, 'SparsityPhiScore': None, 'SparsityThetaScore': None}\n",
    "        \n",
    "        model = artm.ARTM(num_topics=topic_n, dictionary=dictionary, \n",
    "                          cache_theta=False)\n",
    "        # Scores\n",
    "        model.scores.add(artm.PerplexityScore(name='PerplexityScore', dictionary=dictionary))\n",
    "        model.scores.add(artm.SparsityPhiScore(name='SparsityPhiScore'))\n",
    "        model.scores.add(artm.SparsityThetaScore(name='SparsityThetaScore'))\n",
    "        model.scores.add(artm.TopTokensScore(name='top_words', num_tokens=15))\n",
    "        \n",
    "        # Add regularizers\n",
    "        for reg in regularizers:\n",
    "            model.regularizers.add(reg)\n",
    "        \n",
    "        model.fit_offline(batch_vectorizer=batch_vectorizer, num_collection_passes=num_collection_passes)\n",
    "        \n",
    "        if save_models:\n",
    "            model.save(f'./artm/artm_p_wt_{add_to_name}'+str(topic_n), model_name='p_wt')\n",
    "            model.save(f'./artm/artm_n_wt_{add_to_name}'+str(topic_n), model_name='n_wt')\n",
    "            \n",
    "        tm_scores['PerplexityScore'] = np.round(model.get_score('PerplexityScore').value)\n",
    "        tm_scores['SparsityPhiScore'] = np.round(model.get_score('SparsityPhiScore').value, 2)\n",
    "        tm_scores['SparsityThetaScore'] = np.round(model.get_score('SparsityThetaScore').value, 2)\n",
    "        \n",
    "        # Save Perplexity plot\n",
    "        fig = plt.figure()\n",
    "        plt.plot(model.score_tracker['PerplexityScore'].value)\n",
    "        plt.title('ARTM Perplexity Convergence Score ' + str(topic_n) + ' topics')\n",
    "        plt.savefig(f'./artm/img/perplexity_{add_to_name}{str(topic_n)}.png')\n",
    "        plt.close(fig)\n",
    "    \n",
    "        top_words.append([str(k)+': '+' '.join(v) for k, v in model.score_tracker['top_words'].tokens[-1].items()])\n",
    "        tm_results[topic_n] = tm_scores\n",
    "        \n",
    "        metcorp_theta = model.transform(met_batch_vectorizer)\n",
    "        source_df.join(metcorp_theta.T).to_csv(f'./artm/thetas/metcorp_tm_{add_to_name}{topic_n}.csv')\n",
    "    \n",
    "    with open(f'./artm/top_words_for_topics_{add_to_name}.txt', 'wt', encoding='utf-8') as f:\n",
    "        for n, words in zip(topic_nums, top_words):\n",
    "            print(f'Top Words for {n} Topics', file=f)\n",
    "            [print(i, file=f) for i in words]\n",
    "            print(file=f)\n",
    "    \n",
    "    with open(f'./artm/scores_{add_to_name}.txt', 'wt', encoding='utf-8') as f:\n",
    "        json.dump(tm_results, f, indent=2)\n",
    "    \n",
    "    return tm_results, top_words"
   ]
  },
  {
   "cell_type": "code",
   "execution_count": 12,
   "metadata": {},
   "outputs": [],
   "source": [
    "#Preparation\n",
    "artm_regs_sparse = [artm.SmoothSparsePhiRegularizer(name='sparse_phi_regularizer', tau=-1.0),\n",
    "                    artm.SmoothSparseThetaRegularizer(name='sparse_theta_regularizer', tau=-0.5),\n",
    "                    artm.DecorrelatorPhiRegularizer(name='decorrelator_phi_regularizer', tau=1e+2)\n",
    "                   ]\n",
    "\n",
    "#Preparation\n",
    "artm_regs_dense = [artm.SmoothSparsePhiRegularizer(name='sparse_phi_regularizer', tau=-1.0),\n",
    "                    artm.SmoothSparseThetaRegularizer(name='sparse_theta_regularizer', tau=0.5),\n",
    "                    artm.DecorrelatorPhiRegularizer(name='decorrelator_phi_regularizer', tau=1e+2)\n",
    "                   ]\n",
    "\n",
    "df = pd.read_csv('metcorp.csv', index_col=False)\n",
    "\n",
    "# [40,50,60,70,80,90,100]"
   ]
  },
  {
   "cell_type": "code",
   "execution_count": 15,
   "metadata": {},
   "outputs": [
    {
     "name": "stderr",
     "output_type": "stream",
     "text": [
      "100%|██████████| 11/11 [2:00:56<00:00, 659.69s/it]\n"
     ]
    }
   ],
   "source": [
    "dense_results, dense_top_words = build_tms(topic_nums=[30,40,50,60,70,80,90,100,110,120,130], \n",
    "                        batch_vectorizer=batch_vectorizer, \n",
    "                        dictionary=dictionary, num_collection_passes=10, regularizers=artm_regs_dense, \n",
    "                        met_batch_vectorizer=met_batch_vectorizer, source_df=df, add_to_name='dense_2',\n",
    "                        save_models=False)"
   ]
  },
  {
   "cell_type": "code",
   "execution_count": 79,
   "metadata": {},
   "outputs": [
    {
     "name": "stderr",
     "output_type": "stream",
     "text": [
      "100%|██████████| 11/11 [2:11:08<00:00, 715.36s/it]\n"
     ]
    }
   ],
   "source": [
    "sparse_results, sparse_top_words = build_tms(topic_nums=[30,40,50,60,70,80,90,100,110,120,130], \n",
    "                        batch_vectorizer=batch_vectorizer, \n",
    "                        dictionary=dictionary, num_collection_passes=10, regularizers=artm_regs_sparse, \n",
    "                        met_batch_vectorizer=met_batch_vectorizer, source_df=df, add_to_name='sparse_2',\n",
    "                        save_models=False)"
   ]
  },
  {
   "cell_type": "code",
   "execution_count": 75,
   "metadata": {},
   "outputs": [
    {
     "data": {
      "text/plain": [
       "{40: {'PerplexityScore': 4669.0,\n",
       "  'SparsityPhiScore': 0.93,\n",
       "  'SparsityThetaScore': 0.73},\n",
       " 50: {'PerplexityScore': 4322.0,\n",
       "  'SparsityPhiScore': 0.94,\n",
       "  'SparsityThetaScore': 0.76},\n",
       " 60: {'PerplexityScore': 4065.0,\n",
       "  'SparsityPhiScore': 0.95,\n",
       "  'SparsityThetaScore': 0.78},\n",
       " 70: {'PerplexityScore': 3898.0,\n",
       "  'SparsityPhiScore': 0.96,\n",
       "  'SparsityThetaScore': 0.8},\n",
       " 80: {'PerplexityScore': 3803.0,\n",
       "  'SparsityPhiScore': 0.96,\n",
       "  'SparsityThetaScore': 0.81},\n",
       " 90: {'PerplexityScore': 3686.0,\n",
       "  'SparsityPhiScore': 0.97,\n",
       "  'SparsityThetaScore': 0.83}}"
      ]
     },
     "execution_count": 75,
     "metadata": {},
     "output_type": "execute_result"
    }
   ],
   "source": [
    "sparse_results"
   ]
  },
  {
   "cell_type": "code",
   "execution_count": 39,
   "metadata": {},
   "outputs": [],
   "source": [
    "def plot_scores(artm_scores, show=True, save_dir='./artm/img/'):\n",
    "    '''\n",
    "    Plot build_tms scores. Plots separate plots for perplexity and sparsity.\n",
    "    \n",
    "    Args:\n",
    "        artm_scores:     dictionary of dictionaries with scores for all trained topic models.\n",
    "        show:            whether to display the plot as output or only save it\n",
    "    '''\n",
    "                \n",
    "    n_topics = []\n",
    "    perplexity = []\n",
    "    phi = []\n",
    "    theta = []\n",
    "    pt_labels = []\n",
    "\n",
    "    for n_t, scores in artm_scores.items():\n",
    "        n_topics.append(n_t)\n",
    "        perplexity.append(scores['PerplexityScore'])\n",
    "        phi.append(scores['SparsityPhiScore'])\n",
    "        theta.append(scores['SparsityThetaScore'])\n",
    "        if len(pt_labels) == 0:\n",
    "            pt_labels.extend(list(scores.keys()))\n",
    "\n",
    "    def plot_scores(scores, topics, legend, add_to_title_name='', add_to_filename=''):\n",
    "\n",
    "        fig = plt.figure(figsize=(7,3))\n",
    "\n",
    "        for i in scores:\n",
    "            plt.plot(i)\n",
    "            \n",
    "        title = f\"{add_to_title_name} for  {'-'.join([str(i) for i in n_topics])} topics\"\n",
    "        plt.title(title)\n",
    "        plt.xlabel('Number of Topics')\n",
    "        plt.ylabel('Scores')\n",
    "        \n",
    "        plt.xticks(list(range(len(topics))), topics)\n",
    "        \n",
    "        plt.legend(legend, loc='best')\n",
    "        plt.grid()\n",
    "\n",
    "        plt.savefig(f\"{save_dir}{add_to_filename}_{'-'.join([str(i) for i in n_topics])}.png\")\n",
    "\n",
    "        nonlocal show    # define show as nonlocal so it binds to the outer function parameter\n",
    "\n",
    "        if show:                # global variable\n",
    "            plt.show(fig)\n",
    "        else:\n",
    "            plt.close(fig)\n",
    "                    \n",
    "    plot_scores(scores=[perplexity], topics=n_topics, legend=pt_labels,\n",
    "                add_to_title_name='Perrplexity Scores', add_to_filename='perplexity_scores')\n",
    "    plot_scores(scores=[phi, theta], topics=n_topics, legend=pt_labels[1:],\n",
    "                add_to_title_name='Phi&Theta Scores', add_to_filename='phi-theta_scores')"
   ]
  },
  {
   "cell_type": "code",
   "execution_count": 40,
   "metadata": {},
   "outputs": [
    {
     "data": {
      "image/png": "[encoded data removed]",
      "text/plain": [
       "<Figure size 504x216 with 1 Axes>"
      ]
     },
     "metadata": {
      "needs_background": "light"
     },
     "output_type": "display_data"
    },
    {
     "data": {
      "image/png": "[encoded data removed]",
      "text/plain": [
       "<Figure size 504x216 with 1 Axes>"
      ]
     },
     "metadata": {
      "needs_background": "light"
     },
     "output_type": "display_data"
    }
   ],
   "source": [
    "plot_scores(dense_results)"
   ]
  },
  {
   "cell_type": "code",
   "execution_count": 41,
   "metadata": {},
   "outputs": [
    {
     "data": {
      "image/png": "[encoded data removed]",
      "text/plain": [
       "<Figure size 504x216 with 1 Axes>"
      ]
     },
     "metadata": {
      "needs_background": "light"
     },
     "output_type": "display_data"
    },
    {
     "data": {
      "image/png": "[encoded data removed]",
      "text/plain": [
       "<Figure size 504x216 with 1 Axes>"
      ]
     },
     "metadata": {
      "needs_background": "light"
     },
     "output_type": "display_data"
    }
   ],
   "source": [
    "plot_scores(sparse_results)"
   ]
  },
  {
   "cell_type": "markdown",
   "metadata": {},
   "source": [
    "## Bulk LDA Training"
   ]
  },
  {
   "cell_type": "code",
   "execution_count": 60,
   "metadata": {},
   "outputs": [],
   "source": [
    "def build_ldas(topic_nums, batch_vectorizer, dictionary, num_collection_passes,\n",
    "              met_batch_vectorizer, source_df, add_to_name='', save_models=False):\n",
    "    '''\n",
    "    Trains and scores multiple topic models with given target topic nums.\n",
    "    Args:\n",
    "      topic nums:            list of integers, e.g. [20,30,40], with number of topics for each model\n",
    "      batch_vectorizer:      BigARTM BatchVectorizer class object for wiki texts\n",
    "      dictionary:            BigARTM Dictionary class object\n",
    "      num_collection_passes: parameter for .fit_offline() method. Number of passes through the corpus\n",
    "      met_batch_vectorizer:  BigARTM BatchVectorizer class object for metaphor corpus\n",
    "      source_df:             Dataframe with original sentences and labels\n",
    "      add_to_name:           str, will be added to saved theta dataframe filenames and report names\n",
    "                             as an additional identifier. Leave as is, if unnecessary.\n",
    "      save_models:           if True, each model will be saved to disk as\n",
    "                             `'artm_p_wt_'+add_to_name+str(num_t)` and `'artm_n_wt_'+add_to_name+str(num_t)`.\n",
    "                             To save memory, leave `save_models=False`\n",
    "    '''\n",
    "    clear_stdin()   # defined above, fixes tqdm library newline glitches\n",
    "    \n",
    "    tm_results = {}\n",
    "    top_words = []\n",
    "\n",
    "    for topic_n in tqdm(topic_nums):\n",
    "        tm_scores = {'PerplexityScore': None, 'SparsityPhiScore': None, 'SparsityThetaScore': None}\n",
    "        \n",
    "        lda = artm.LDA(num_topics=topic_n, alpha=0.01, beta=0.001, cache_theta=False,\n",
    "               num_document_passes=10, dictionary=dictionary)\n",
    "        \n",
    "        lda.fit_offline(batch_vectorizer=batch_vectorizer, num_collection_passes=10)\n",
    "        \n",
    "        if save_models:\n",
    "            lda.save(f'./artm/lda_p_wt_{add_to_name}'+str(topic_n), model_name='p_wt')\n",
    "            lda.save(f'./artm/lda_n_wt_{add_to_name}'+str(topic_n), model_name='n_wt')\n",
    "            \n",
    "        tm_scores['PerplexityScore'] = np.round(lda.perplexity_last_value)\n",
    "        tm_scores['SparsityPhiScore'] = np.round(lda.sparsity_phi_last_value, 2)\n",
    "        tm_scores['SparsityThetaScore'] = np.round(lda.sparsity_theta_last_value, 2)\n",
    "        \n",
    "        # Save Perplexity plot\n",
    "        fig = plt.figure()\n",
    "        plt.plot(lda.perplexity_value)\n",
    "        plt.title('LDA Perplexity Convergence Score ' + str(topic_n) + ' topics')\n",
    "        plt.savefig(f'./artm/img/perplexity_{add_to_name}{str(topic_n)}.png')\n",
    "        plt.close(fig)\n",
    "        \n",
    "        top_tokens = lda.get_top_tokens(num_tokens=10)      \n",
    "        top_words.append(['Topic #{0}: {1}'.format(i, token_list) for i, token_list in enumerate(top_tokens)])\n",
    "        \n",
    "        tm_results[topic_n] = tm_scores\n",
    "        \n",
    "        metcorp_theta = lda.transform(met_batch_vectorizer)\n",
    "        source_df.join(metcorp_theta.T).to_csv(f'./artm/thetas/metcorp_tm_{add_to_name}{topic_n}.csv')\n",
    "    \n",
    "    with open(f'./artm/top_words_for_topics_{add_to_name}.txt', 'wt', encoding='utf-8') as f:\n",
    "        for n, words in zip(topic_nums, top_words):\n",
    "            print(f'Top Words for {n} Topics', file=f)\n",
    "            [print(' '.join(i), file=f) for i in words]\n",
    "            print(file=f)\n",
    "    \n",
    "    with open(f'./artm/scores_{add_to_name}.txt', 'wt', encoding='utf-8') as f:\n",
    "        json.dump(tm_results, f, indent=2)\n",
    "    \n",
    "    return tm_results, top_words"
   ]
  },
  {
   "cell_type": "code",
   "execution_count": 61,
   "metadata": {},
   "outputs": [
    {
     "name": "stderr",
     "output_type": "stream",
     "text": [
      "  0%|          | 0/11 [10:35<?, ?it/s]\n",
      "100%|██████████| 11/11 [2:16:05<00:00, 742.28s/it]\n"
     ]
    }
   ],
   "source": [
    "lda_results, lda_top_words = build_ldas(topic_nums=[30,40,50,60,70,80,90,100,110,120,130], \n",
    "                             batch_vectorizer=batch_vectorizer, \n",
    "                             dictionary=dictionary, num_collection_passes=10,\n",
    "                             met_batch_vectorizer=met_batch_vectorizer, source_df=df, add_to_name='lda',\n",
    "                             save_models=False)"
   ]
  },
  {
   "cell_type": "code",
   "execution_count": 62,
   "metadata": {},
   "outputs": [
    {
     "data": {
      "text/plain": [
       "{30: {'PerplexityScore': 4749.0,\n",
       "  'SparsityPhiScore': 0.0,\n",
       "  'SparsityThetaScore': 0.0},\n",
       " 40: {'PerplexityScore': 4328.0,\n",
       "  'SparsityPhiScore': 0.0,\n",
       "  'SparsityThetaScore': 0.0},\n",
       " 50: {'PerplexityScore': 3972.0,\n",
       "  'SparsityPhiScore': 0.0,\n",
       "  'SparsityThetaScore': 0.0},\n",
       " 60: {'PerplexityScore': 3675.0,\n",
       "  'SparsityPhiScore': 0.0,\n",
       "  'SparsityThetaScore': 0.0},\n",
       " 70: {'PerplexityScore': 3506.0,\n",
       "  'SparsityPhiScore': 0.0,\n",
       "  'SparsityThetaScore': 0.0},\n",
       " 80: {'PerplexityScore': 3402.0,\n",
       "  'SparsityPhiScore': 0.0,\n",
       "  'SparsityThetaScore': 0.0},\n",
       " 90: {'PerplexityScore': 3302.0,\n",
       "  'SparsityPhiScore': 0.0,\n",
       "  'SparsityThetaScore': 0.0},\n",
       " 100: {'PerplexityScore': 3194.0,\n",
       "  'SparsityPhiScore': 0.0,\n",
       "  'SparsityThetaScore': 0.0},\n",
       " 110: {'PerplexityScore': 3113.0,\n",
       "  'SparsityPhiScore': 0.0,\n",
       "  'SparsityThetaScore': 0.0},\n",
       " 120: {'PerplexityScore': 3036.0,\n",
       "  'SparsityPhiScore': 0.0,\n",
       "  'SparsityThetaScore': 0.0},\n",
       " 130: {'PerplexityScore': 2948.0,\n",
       "  'SparsityPhiScore': 0.0,\n",
       "  'SparsityThetaScore': 0.0}}"
      ]
     },
     "execution_count": 62,
     "metadata": {},
     "output_type": "execute_result"
    }
   ],
   "source": [
    "lda_results"
   ]
  }
 ],
 "metadata": {
  "accelerator": "GPU",
  "colab": {
   "name": "Topic modelling on joined articles.ipynb",
   "provenance": []
  },
  "kernelspec": {
   "display_name": "Python 3",
   "language": "python",
   "name": "python3"
  },
  "language_info": {
   "codemirror_mode": {
    "name": "ipython",
    "version": 3
   },
   "file_extension": ".py",
   "mimetype": "text/x-python",
   "name": "python",
   "nbconvert_exporter": "python",
   "pygments_lexer": "ipython3",
   "version": "3.6.9"
  }
 },
 "nbformat": 4,
 "nbformat_minor": 1
}
